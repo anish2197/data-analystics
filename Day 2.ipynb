{
 "cells": [
  {
   "cell_type": "markdown",
   "metadata": {},
   "source": [
    "# More detailed analytics on cars and mpg"
   ]
  },
  {
   "cell_type": "code",
   "execution_count": 63,
   "metadata": {},
   "outputs": [],
   "source": [
    "import pandas as pd\n",
    "import numpy as np\n",
    "import matplotlib.pyplot as plt\n",
    "import seaborn as sns"
   ]
  },
  {
   "cell_type": "markdown",
   "metadata": {},
   "source": [
    "## 1. To find out which manufacturer has best mileages"
   ]
  },
  {
   "cell_type": "code",
   "execution_count": 64,
   "metadata": {},
   "outputs": [
    {
     "name": "stdout",
     "output_type": "stream",
     "text": [
      "<class 'pandas.core.frame.DataFrame'>\n",
      "RangeIndex: 234 entries, 0 to 233\n",
      "Data columns (total 12 columns):\n",
      "Unnamed: 0      234 non-null int64\n",
      "manufacturer    234 non-null object\n",
      "model           234 non-null object\n",
      "displ           234 non-null float64\n",
      "year            234 non-null int64\n",
      "cyl             234 non-null int64\n",
      "trans           234 non-null object\n",
      "drv             234 non-null object\n",
      "cty             234 non-null int64\n",
      "hwy             234 non-null int64\n",
      "fl              234 non-null object\n",
      "class           234 non-null object\n",
      "dtypes: float64(1), int64(5), object(6)\n",
      "memory usage: 22.0+ KB\n"
     ]
    }
   ],
   "source": [
    "df = pd.read_csv(\"datasets/mpg.csv\")\n",
    "df.shape\n",
    "df.info()"
   ]
  },
  {
   "cell_type": "code",
   "execution_count": 138,
   "metadata": {},
   "outputs": [
    {
     "data": {
      "text/html": [
       "<div>\n",
       "<style scoped>\n",
       "    .dataframe tbody tr th:only-of-type {\n",
       "        vertical-align: middle;\n",
       "    }\n",
       "\n",
       "    .dataframe tbody tr th {\n",
       "        vertical-align: top;\n",
       "    }\n",
       "\n",
       "    .dataframe thead th {\n",
       "        text-align: right;\n",
       "    }\n",
       "</style>\n",
       "<table border=\"1\" class=\"dataframe\">\n",
       "  <thead>\n",
       "    <tr style=\"text-align: right;\">\n",
       "      <th></th>\n",
       "      <th>Unnamed: 0</th>\n",
       "      <th>manufacturer</th>\n",
       "      <th>model</th>\n",
       "      <th>displ</th>\n",
       "      <th>year</th>\n",
       "      <th>cyl</th>\n",
       "      <th>trans</th>\n",
       "      <th>drv</th>\n",
       "      <th>cty</th>\n",
       "      <th>hwy</th>\n",
       "      <th>fl</th>\n",
       "      <th>class</th>\n",
       "    </tr>\n",
       "  </thead>\n",
       "  <tbody>\n",
       "    <tr>\n",
       "      <th>0</th>\n",
       "      <td>1</td>\n",
       "      <td>audi</td>\n",
       "      <td>a4</td>\n",
       "      <td>1.8</td>\n",
       "      <td>1999</td>\n",
       "      <td>4</td>\n",
       "      <td>auto(l5)</td>\n",
       "      <td>f</td>\n",
       "      <td>18</td>\n",
       "      <td>29</td>\n",
       "      <td>p</td>\n",
       "      <td>compact</td>\n",
       "    </tr>\n",
       "    <tr>\n",
       "      <th>1</th>\n",
       "      <td>2</td>\n",
       "      <td>audi</td>\n",
       "      <td>a4</td>\n",
       "      <td>1.8</td>\n",
       "      <td>1999</td>\n",
       "      <td>4</td>\n",
       "      <td>manual(m5)</td>\n",
       "      <td>f</td>\n",
       "      <td>21</td>\n",
       "      <td>29</td>\n",
       "      <td>p</td>\n",
       "      <td>compact</td>\n",
       "    </tr>\n",
       "    <tr>\n",
       "      <th>2</th>\n",
       "      <td>3</td>\n",
       "      <td>audi</td>\n",
       "      <td>a4</td>\n",
       "      <td>2.0</td>\n",
       "      <td>2008</td>\n",
       "      <td>4</td>\n",
       "      <td>manual(m6)</td>\n",
       "      <td>f</td>\n",
       "      <td>20</td>\n",
       "      <td>31</td>\n",
       "      <td>p</td>\n",
       "      <td>compact</td>\n",
       "    </tr>\n",
       "    <tr>\n",
       "      <th>3</th>\n",
       "      <td>4</td>\n",
       "      <td>audi</td>\n",
       "      <td>a4</td>\n",
       "      <td>2.0</td>\n",
       "      <td>2008</td>\n",
       "      <td>4</td>\n",
       "      <td>auto(av)</td>\n",
       "      <td>f</td>\n",
       "      <td>21</td>\n",
       "      <td>30</td>\n",
       "      <td>p</td>\n",
       "      <td>compact</td>\n",
       "    </tr>\n",
       "    <tr>\n",
       "      <th>4</th>\n",
       "      <td>5</td>\n",
       "      <td>audi</td>\n",
       "      <td>a4</td>\n",
       "      <td>2.8</td>\n",
       "      <td>1999</td>\n",
       "      <td>6</td>\n",
       "      <td>auto(l5)</td>\n",
       "      <td>f</td>\n",
       "      <td>16</td>\n",
       "      <td>26</td>\n",
       "      <td>p</td>\n",
       "      <td>compact</td>\n",
       "    </tr>\n",
       "  </tbody>\n",
       "</table>\n",
       "</div>"
      ],
      "text/plain": [
       "   Unnamed: 0 manufacturer model  displ  year  cyl       trans drv  cty  hwy  \\\n",
       "0           1         audi    a4    1.8  1999    4    auto(l5)   f   18   29   \n",
       "1           2         audi    a4    1.8  1999    4  manual(m5)   f   21   29   \n",
       "2           3         audi    a4    2.0  2008    4  manual(m6)   f   20   31   \n",
       "3           4         audi    a4    2.0  2008    4    auto(av)   f   21   30   \n",
       "4           5         audi    a4    2.8  1999    6    auto(l5)   f   16   26   \n",
       "\n",
       "  fl    class  \n",
       "0  p  compact  \n",
       "1  p  compact  \n",
       "2  p  compact  \n",
       "3  p  compact  \n",
       "4  p  compact  "
      ]
     },
     "execution_count": 138,
     "metadata": {},
     "output_type": "execute_result"
    }
   ],
   "source": [
    "df.head()"
   ]
  },
  {
   "cell_type": "code",
   "execution_count": 66,
   "metadata": {},
   "outputs": [
    {
     "data": {
      "text/plain": [
       "array(['audi', 'chevrolet', 'dodge', 'ford', 'honda', 'hyundai', 'jeep',\n",
       "       'land rover', 'lincoln', 'mercury', 'nissan', 'pontiac', 'subaru',\n",
       "       'toyota', 'volkswagen'], dtype=object)"
      ]
     },
     "execution_count": 66,
     "metadata": {},
     "output_type": "execute_result"
    }
   ],
   "source": [
    "x = df[\"manufacturer\"].unique()\n",
    "x"
   ]
  },
  {
   "cell_type": "code",
   "execution_count": 67,
   "metadata": {},
   "outputs": [],
   "source": [
    "df2 = pd.DataFrame(columns=[\"manufacturer\",\"max\"])   #Create a new dataframe to plot results\n",
    "for car in x:\n",
    "    max1 = 0\n",
    "    for i in range(234):\n",
    "        if df[\"manufacturer\"].iloc[i] == car:\n",
    "            if df[\"cty\"].iloc[i] > max1:\n",
    "                max1 = df[\"cty\"].iloc[i]\n",
    "                \n",
    "    df2 = df2.append({\"manufacturer\":car, \"max\":max1},ignore_index=True)  #Referred to pandas docs for append syntax\n",
    "                "
   ]
  },
  {
   "cell_type": "code",
   "execution_count": 68,
   "metadata": {},
   "outputs": [
    {
     "data": {
      "text/html": [
       "<div>\n",
       "<style scoped>\n",
       "    .dataframe tbody tr th:only-of-type {\n",
       "        vertical-align: middle;\n",
       "    }\n",
       "\n",
       "    .dataframe tbody tr th {\n",
       "        vertical-align: top;\n",
       "    }\n",
       "\n",
       "    .dataframe thead th {\n",
       "        text-align: right;\n",
       "    }\n",
       "</style>\n",
       "<table border=\"1\" class=\"dataframe\">\n",
       "  <thead>\n",
       "    <tr style=\"text-align: right;\">\n",
       "      <th></th>\n",
       "      <th>manufacturer</th>\n",
       "      <th>max</th>\n",
       "    </tr>\n",
       "  </thead>\n",
       "  <tbody>\n",
       "    <tr>\n",
       "      <th>0</th>\n",
       "      <td>audi</td>\n",
       "      <td>21</td>\n",
       "    </tr>\n",
       "    <tr>\n",
       "      <th>1</th>\n",
       "      <td>chevrolet</td>\n",
       "      <td>22</td>\n",
       "    </tr>\n",
       "    <tr>\n",
       "      <th>2</th>\n",
       "      <td>dodge</td>\n",
       "      <td>18</td>\n",
       "    </tr>\n",
       "    <tr>\n",
       "      <th>3</th>\n",
       "      <td>ford</td>\n",
       "      <td>18</td>\n",
       "    </tr>\n",
       "    <tr>\n",
       "      <th>4</th>\n",
       "      <td>honda</td>\n",
       "      <td>28</td>\n",
       "    </tr>\n",
       "  </tbody>\n",
       "</table>\n",
       "</div>"
      ],
      "text/plain": [
       "  manufacturer max\n",
       "0         audi  21\n",
       "1    chevrolet  22\n",
       "2        dodge  18\n",
       "3         ford  18\n",
       "4        honda  28"
      ]
     },
     "execution_count": 68,
     "metadata": {},
     "output_type": "execute_result"
    }
   ],
   "source": [
    "df2.head()"
   ]
  },
  {
   "cell_type": "code",
   "execution_count": 69,
   "metadata": {},
   "outputs": [
    {
     "data": {
      "text/plain": [
       "<BarContainer object of 15 artists>"
      ]
     },
     "execution_count": 69,
     "metadata": {},
     "output_type": "execute_result"
    },
    {
     "data": {
      "image/png": "[encoded data removed]",
      "text/plain": [
       "<Figure size 1368x432 with 1 Axes>"
      ]
     },
     "metadata": {
      "needs_background": "light"
     },
     "output_type": "display_data"
    }
   ],
   "source": [
    "plt.figure(figsize=(19,6))\n",
    "plt.bar(x, df2[\"max\"])"
   ]
  },
  {
   "cell_type": "markdown",
   "metadata": {},
   "source": [
    "**We can conclude that *volkswagen* company cars give the highest city mileage of 35**"
   ]
  },
  {
   "cell_type": "markdown",
   "metadata": {},
   "source": [
    "## 2. To find out which model gives the best city and highway mileage"
   ]
  },
  {
   "cell_type": "code",
   "execution_count": 70,
   "metadata": {},
   "outputs": [
    {
     "name": "stdout",
     "output_type": "stream",
     "text": [
      "Unique models :  ['a4' 'a4 quattro' 'a6 quattro' 'c1500 suburban 2wd' 'corvette'\n",
      " 'k1500 tahoe 4wd' 'malibu' 'caravan 2wd' 'dakota pickup 4wd'\n",
      " 'durango 4wd' 'ram 1500 pickup 4wd' 'expedition 2wd' 'explorer 4wd'\n",
      " 'f150 pickup 4wd' 'mustang' 'civic' 'sonata' 'tiburon'\n",
      " 'grand cherokee 4wd' 'range rover' 'navigator 2wd' 'mountaineer 4wd'\n",
      " 'altima' 'maxima' 'pathfinder 4wd' 'grand prix' 'forester awd'\n",
      " 'impreza awd' '4runner 4wd' 'camry' 'camry solara' 'corolla'\n",
      " 'land cruiser wagon 4wd' 'toyota tacoma 4wd' 'gti' 'jetta' 'new beetle'\n",
      " 'passat']\n"
     ]
    }
   ],
   "source": [
    "x = df[\"model\"].unique()\n",
    "print(\"Unique models : \", x)\n",
    "df2 = pd.DataFrame(columns=[\"manufacturer\",\"city max\", \"highway max\"])\n",
    "for car in x:\n",
    "    maxCity = 0\n",
    "    maxHighway = 0\n",
    "    \n",
    "    for i in range(234):\n",
    "        if df[\"model\"].iloc[i] == car:\n",
    "            if df[\"cty\"].iloc[i] > maxCity:\n",
    "                maxCity = df[\"cty\"].iloc[i]\n",
    "                \n",
    "    for i in range(234):\n",
    "        if df[\"model\"].iloc[i] == car:\n",
    "            if df[\"hwy\"].iloc[i] > maxHighway:\n",
    "                maxHighway = df[\"hwy\"].iloc[i]\n",
    "                \n",
    "    \n",
    "    df2 = df2.append({\"manufacturer\":car, \"city max\":maxCity, \"highway max\":maxHighway},ignore_index=True)"
   ]
  },
  {
   "cell_type": "code",
   "execution_count": 71,
   "metadata": {},
   "outputs": [
    {
     "data": {
      "text/html": [
       "<div>\n",
       "<style scoped>\n",
       "    .dataframe tbody tr th:only-of-type {\n",
       "        vertical-align: middle;\n",
       "    }\n",
       "\n",
       "    .dataframe tbody tr th {\n",
       "        vertical-align: top;\n",
       "    }\n",
       "\n",
       "    .dataframe thead th {\n",
       "        text-align: right;\n",
       "    }\n",
       "</style>\n",
       "<table border=\"1\" class=\"dataframe\">\n",
       "  <thead>\n",
       "    <tr style=\"text-align: right;\">\n",
       "      <th></th>\n",
       "      <th>manufacturer</th>\n",
       "      <th>city max</th>\n",
       "      <th>highway max</th>\n",
       "    </tr>\n",
       "  </thead>\n",
       "  <tbody>\n",
       "    <tr>\n",
       "      <th>0</th>\n",
       "      <td>a4</td>\n",
       "      <td>21</td>\n",
       "      <td>31</td>\n",
       "    </tr>\n",
       "    <tr>\n",
       "      <th>1</th>\n",
       "      <td>a4 quattro</td>\n",
       "      <td>20</td>\n",
       "      <td>28</td>\n",
       "    </tr>\n",
       "    <tr>\n",
       "      <th>2</th>\n",
       "      <td>a6 quattro</td>\n",
       "      <td>17</td>\n",
       "      <td>25</td>\n",
       "    </tr>\n",
       "    <tr>\n",
       "      <th>3</th>\n",
       "      <td>c1500 suburban 2wd</td>\n",
       "      <td>14</td>\n",
       "      <td>20</td>\n",
       "    </tr>\n",
       "    <tr>\n",
       "      <th>4</th>\n",
       "      <td>corvette</td>\n",
       "      <td>16</td>\n",
       "      <td>26</td>\n",
       "    </tr>\n",
       "  </tbody>\n",
       "</table>\n",
       "</div>"
      ],
      "text/plain": [
       "         manufacturer city max highway max\n",
       "0                  a4       21          31\n",
       "1          a4 quattro       20          28\n",
       "2          a6 quattro       17          25\n",
       "3  c1500 suburban 2wd       14          20\n",
       "4            corvette       16          26"
      ]
     },
     "execution_count": 71,
     "metadata": {},
     "output_type": "execute_result"
    }
   ],
   "source": [
    "df2.head()"
   ]
  },
  {
   "cell_type": "code",
   "execution_count": 72,
   "metadata": {},
   "outputs": [
    {
     "data": {
      "text/plain": [
       "<BarContainer object of 10 artists>"
      ]
     },
     "execution_count": 72,
     "metadata": {},
     "output_type": "execute_result"
    },
    {
     "data": {
      "image/png": "[encoded data removed]",
      "text/plain": [
       "<Figure size 864x432 with 1 Axes>"
      ]
     },
     "metadata": {
      "needs_background": "light"
     },
     "output_type": "display_data"
    }
   ],
   "source": [
    "df2 = df2.sort_values(by=[\"city max\"], ascending=False)    #Referred to pandas docs for sort_values syntax\n",
    "dfTemp = df2[0:10]   #View only top 10 results\n",
    "plt.figure(figsize=(12,6))\n",
    "plt.bar(dfTemp[\"manufacturer\"], dfTemp[\"city max\"])"
   ]
  },
  {
   "cell_type": "markdown",
   "metadata": {},
   "source": [
    "**We can see that *new beetle* has the highest city mileage of 35**"
   ]
  },
  {
   "cell_type": "code",
   "execution_count": 73,
   "metadata": {},
   "outputs": [
    {
     "data": {
      "text/plain": [
       "<BarContainer object of 10 artists>"
      ]
     },
     "execution_count": 73,
     "metadata": {},
     "output_type": "execute_result"
    },
    {
     "data": {
      "image/png": "[encoded data removed]",
      "text/plain": [
       "<Figure size 864x432 with 1 Axes>"
      ]
     },
     "metadata": {
      "needs_background": "light"
     },
     "output_type": "display_data"
    }
   ],
   "source": [
    "df2 = df2.sort_values(by=[\"highway max\"], ascending=False)\n",
    "dfTemp = df2[0:10]\n",
    "plt.figure(figsize=(12,6))\n",
    "plt.bar(dfTemp[\"manufacturer\"], dfTemp[\"highway max\"])"
   ]
  },
  {
   "cell_type": "markdown",
   "metadata": {},
   "source": [
    "**We can observe that *new beetle* and *jetta* have the joint highest highway mileage of 44**"
   ]
  },
  {
   "cell_type": "markdown",
   "metadata": {},
   "source": [
    "## 3. To find out which model gives best of both city and highway mileage combined"
   ]
  },
  {
   "cell_type": "code",
   "execution_count": 74,
   "metadata": {},
   "outputs": [],
   "source": [
    "x = df[\"model\"].unique()\n",
    "dfTemp = pd.DataFrame(columns=[\"model\", \"combined mileage\"])\n",
    "\n",
    "for model in x:\n",
    "    \n",
    "    for i in range(234):\n",
    "        \n",
    "        if df[\"model\"].iloc[i] == model:\n",
    "            \n",
    "            city = df[\"cty\"].iloc[i]\n",
    "            highway = df[\"hwy\"].iloc[i]\n",
    "            average = (city+highway)/2\n",
    "            \n",
    "        dfTemp = dfTemp.append({\"model\":model, \"combined mileage\":average},ignore_index=True)\n",
    "            \n",
    "    "
   ]
  },
  {
   "cell_type": "code",
   "execution_count": 75,
   "metadata": {},
   "outputs": [],
   "source": [
    "dfTemp = dfTemp.sort_values(by=\"combined mileage\", ascending = False)\n",
    "dfTemp = dfTemp.drop_duplicates(keep=\"first\")"
   ]
  },
  {
   "cell_type": "code",
   "execution_count": 76,
   "metadata": {},
   "outputs": [
    {
     "data": {
      "text/html": [
       "<div>\n",
       "<style scoped>\n",
       "    .dataframe tbody tr th:only-of-type {\n",
       "        vertical-align: middle;\n",
       "    }\n",
       "\n",
       "    .dataframe tbody tr th {\n",
       "        vertical-align: top;\n",
       "    }\n",
       "\n",
       "    .dataframe thead th {\n",
       "        text-align: right;\n",
       "    }\n",
       "</style>\n",
       "<table border=\"1\" class=\"dataframe\">\n",
       "  <thead>\n",
       "    <tr style=\"text-align: right;\">\n",
       "      <th></th>\n",
       "      <th>model</th>\n",
       "      <th>combined mileage</th>\n",
       "    </tr>\n",
       "  </thead>\n",
       "  <tbody>\n",
       "    <tr>\n",
       "      <th>8645</th>\n",
       "      <td>new beetle</td>\n",
       "      <td>39.5</td>\n",
       "    </tr>\n",
       "    <tr>\n",
       "      <th>8402</th>\n",
       "      <td>jetta</td>\n",
       "      <td>38.5</td>\n",
       "    </tr>\n",
       "    <tr>\n",
       "      <th>8646</th>\n",
       "      <td>new beetle</td>\n",
       "      <td>35.0</td>\n",
       "    </tr>\n",
       "    <tr>\n",
       "      <th>7450</th>\n",
       "      <td>corolla</td>\n",
       "      <td>32.5</td>\n",
       "    </tr>\n",
       "    <tr>\n",
       "      <th>7685</th>\n",
       "      <td>land cruiser wagon 4wd</td>\n",
       "      <td>30.5</td>\n",
       "    </tr>\n",
       "  </tbody>\n",
       "</table>\n",
       "</div>"
      ],
      "text/plain": [
       "                       model  combined mileage\n",
       "8645              new beetle              39.5\n",
       "8402                   jetta              38.5\n",
       "8646              new beetle              35.0\n",
       "7450                 corolla              32.5\n",
       "7685  land cruiser wagon 4wd              30.5"
      ]
     },
     "execution_count": 76,
     "metadata": {},
     "output_type": "execute_result"
    }
   ],
   "source": [
    "dfTemp.head()"
   ]
  },
  {
   "cell_type": "code",
   "execution_count": 78,
   "metadata": {},
   "outputs": [
    {
     "data": {
      "text/plain": [
       "<BarContainer object of 10 artists>"
      ]
     },
     "execution_count": 78,
     "metadata": {},
     "output_type": "execute_result"
    },
    {
     "data": {
      "image/png": "[encoded data removed]",
      "text/plain": [
       "<Figure size 720x360 with 1 Axes>"
      ]
     },
     "metadata": {
      "needs_background": "light"
     },
     "output_type": "display_data"
    }
   ],
   "source": [
    "dfTemp2 = dfTemp[0:10]\n",
    "plt.figure(figsize=(10,5))\n",
    "plt.bar(dfTemp2[\"model\"], dfTemp2[\"combined mileage\"])"
   ]
  },
  {
   "cell_type": "markdown",
   "metadata": {},
   "source": [
    "***New Beetle* has the best combined mileage**"
   ]
  },
  {
   "cell_type": "markdown",
   "metadata": {},
   "source": [
    "## 4. Find out differences between highway and city mileages"
   ]
  },
  {
   "cell_type": "code",
   "execution_count": 91,
   "metadata": {},
   "outputs": [
    {
     "data": {
      "text/plain": [
       "<matplotlib.axes._subplots.AxesSubplot at 0x2a5d4718cf8>"
      ]
     },
     "execution_count": 91,
     "metadata": {},
     "output_type": "execute_result"
    },
    {
     "data": {
      "image/png": "[encoded data removed]",
      "text/plain": [
       "<Figure size 720x432 with 1 Axes>"
      ]
     },
     "metadata": {
      "needs_background": "light"
     },
     "output_type": "display_data"
    }
   ],
   "source": [
    "x = df[\"hwy\"] - df[\"cty\"]\n",
    "x.plot(kind=\"line\",figsize=(10,6))"
   ]
  },
  {
   "cell_type": "code",
   "execution_count": 93,
   "metadata": {},
   "outputs": [
    {
     "data": {
      "text/plain": [
       "count    234.000000\n",
       "mean       6.581197\n",
       "std        2.262739\n",
       "min        2.000000\n",
       "25%        5.000000\n",
       "50%        7.000000\n",
       "75%        8.000000\n",
       "max       12.000000\n",
       "dtype: float64"
      ]
     },
     "execution_count": 93,
     "metadata": {},
     "output_type": "execute_result"
    }
   ],
   "source": [
    "x.describe()"
   ]
  },
  {
   "cell_type": "markdown",
   "metadata": {},
   "source": [
    "**Here we can see the trend of difference between city and higway mileage. The difference varies from 2 to 12 and is always positive. So we can conlude that highway mileage is always larger than city mileage for each given car.**\n",
    "\n",
    "**Lets see which cars have minimum and maximum difference.**\n"
   ]
  },
  {
   "cell_type": "code",
   "execution_count": 141,
   "metadata": {},
   "outputs": [],
   "source": [
    "dfTemp = pd.DataFrame(columns=[\"model\",\"mileage difference\"])\n",
    "x = df[\"model\"].unique()\n",
    "\n",
    "for model in x:\n",
    "    \n",
    "    for i in range(234):\n",
    "        \n",
    "        if df[\"model\"].iloc[i] == model:\n",
    "            \n",
    "            difference = df[\"hwy\"].iloc[i] - df[\"cty\"].iloc[i]\n",
    "            dfTemp = dfTemp.append({\"model\":df[\"model\"].iloc[i], \"mileage difference\":difference},ignore_index=True)\n",
    " "
   ]
  },
  {
   "cell_type": "code",
   "execution_count": 142,
   "metadata": {},
   "outputs": [],
   "source": [
    "dfTemp = dfTemp.sort_values(by=\"mileage difference\", ascending = True)\n",
    "lowestDiff = dfTemp[0:3]\n",
    "dfTemp = dfTemp.sort_values(by=\"mileage difference\", ascending = False)\n",
    "highestDiff = dfTemp[0:3]\n",
    "dfDiff = pd.DataFrame(columns=[\"model\",\"mileage difference\"])\n",
    "dfDiff = dfDiff.append(lowestDiff)\n",
    "dfDiff = dfDiff.append(highestDiff)"
   ]
  },
  {
   "cell_type": "code",
   "execution_count": 143,
   "metadata": {},
   "outputs": [
    {
     "data": {
      "text/plain": [
       "<BarContainer object of 6 artists>"
      ]
     },
     "execution_count": 143,
     "metadata": {},
     "output_type": "execute_result"
    },
    {
     "data": {
      "image/png": "[encoded data removed]",
      "text/plain": [
       "<Figure size 864x432 with 1 Axes>"
      ]
     },
     "metadata": {
      "needs_background": "light"
     },
     "output_type": "display_data"
    }
   ],
   "source": [
    "dfDiff = dfDiff.sort_values(by=\"mileage difference\")\n",
    "plt.figure(figsize=(12,6))\n",
    "plt.bar(dfDiff[\"model\"], dfDiff[\"mileage difference\"])"
   ]
  },
  {
   "cell_type": "markdown",
   "metadata": {},
   "source": [
    "* ***Toyota Tacoma, 4runner4wd* and *TPathfinder* have lowest difference. We can say that these cars provide a more consistent performace.**\n",
    "* **Where as *Civic* and *New Beetle* have highest difference, so these cars may not provide a consistent performance.**"
   ]
  },
  {
   "cell_type": "markdown",
   "metadata": {},
   "source": [
    "## 5. Compare average mileage of different Transmission types"
   ]
  },
  {
   "cell_type": "code",
   "execution_count": 144,
   "metadata": {},
   "outputs": [
    {
     "data": {
      "text/plain": [
       "array(['auto(l5)', 'manual(m5)', 'manual(m6)', 'auto(av)', 'auto(s6)',\n",
       "       'auto(l4)', 'auto(l3)', 'auto(l6)', 'auto(s5)', 'auto(s4)'],\n",
       "      dtype=object)"
      ]
     },
     "execution_count": 144,
     "metadata": {},
     "output_type": "execute_result"
    }
   ],
   "source": [
    "trans = df[\"trans\"].unique()\n",
    "trans"
   ]
  },
  {
   "cell_type": "code",
   "execution_count": 146,
   "metadata": {},
   "outputs": [],
   "source": [
    "dfTrans = pd.DataFrame(columns=[\"transmission type\", \"mean city mileage\", \"mean highway mileage\"])\n",
    "for car_trans in trans:\n",
    "    count = 0\n",
    "    total_city = 0\n",
    "    total_highway = 0\n",
    "    \n",
    "    for i in range(234):\n",
    "        \n",
    "        if df[\"trans\"].iloc[i] == car_trans:\n",
    "            city = df[\"cty\"].iloc[i]\n",
    "            highway = df[\"hwy\"].iloc[i]\n",
    "            total_city = total_city + city\n",
    "            total_highway = total_highway + highway\n",
    "            count = count + 1\n",
    "    \n",
    "    mean_city = total_city / count\n",
    "    mean_highway = total_highway / count\n",
    "    \n",
    "    dfTrans = dfTrans.append({\"transmission type\":car_trans,\"mean city mileage\":mean_city, \"mean highway mileage\":mean_highway},ignore_index=True)              "
   ]
  },
  {
   "cell_type": "code",
   "execution_count": 168,
   "metadata": {},
   "outputs": [
    {
     "data": {
      "image/png": "[encoded data removed]",
      "text/plain": [
       "<Figure size 1152x576 with 1 Axes>"
      ]
     },
     "metadata": {
      "needs_background": "light"
     },
     "output_type": "display_data"
    }
   ],
   "source": [
    "# Referred to matplotlib documentation for subplots usage\n",
    "\n",
    "N = len(dfTrans)\n",
    "\n",
    "fig, ax = plt.subplots(figsize=(16,8))\n",
    "\n",
    "indices = np.arange(N)\n",
    "width = 0.30\n",
    "p1 = ax.bar(indices, dfTrans[\"mean city mileage\"], width=width, color = \"b\")\n",
    "p2 = ax.bar(indices+width, dfTrans[\"mean highway mileage\"], width=width, color = \"y\")\n",
    "\n",
    "ax.set_xticks(indices + width / 2)\n",
    "ax.set_xticklabels(trans)\n",
    "ax.legend((p1[0], p2[0]), ('mean city mileage', 'mean highway mileage'))\n",
    "ax.autoscale_view()\n",
    "\n",
    "plt.show()"
   ]
  },
  {
   "cell_type": "markdown",
   "metadata": {},
   "source": [
    "**We can observe that :**\n",
    "* ***auto(av)* has highest highway mileage**\n",
    "* ***auto(l3)* has highest better city mileage**\n",
    "* ***auto(l6)* has lowest both city and highway mileages**\n"
   ]
  },
  {
   "cell_type": "code",
   "execution_count": null,
   "metadata": {},
   "outputs": [],
   "source": []
  }
 ],
 "metadata": {
  "kernelspec": {
   "display_name": "Python 3",
   "language": "python",
   "name": "python3"
  },
  "language_info": {
   "codemirror_mode": {
    "name": "ipython",
    "version": 3
   },
   "file_extension": ".py",
   "mimetype": "text/x-python",
   "name": "python",
   "nbconvert_exporter": "python",
   "pygments_lexer": "ipython3",
   "version": "3.6.7"
  }
 },
 "nbformat": 4,
 "nbformat_minor": 2
}
