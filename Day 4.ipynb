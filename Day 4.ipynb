{
 "cells": [
  {
   "cell_type": "code",
   "execution_count": 128,
   "metadata": {},
   "outputs": [],
   "source": [
    "import matplotlib.pyplot as plt\n",
    "import mplleaflet as mpl\n",
    "import pandas as pd\n",
    "import numpy as np"
   ]
  },
  {
   "cell_type": "code",
   "execution_count": 13,
   "metadata": {},
   "outputs": [],
   "source": [
    "df = pd.read_csv(\"datasets/go_trackspoints.csv\")"
   ]
  },
  {
   "cell_type": "code",
   "execution_count": 15,
   "metadata": {},
   "outputs": [
    {
     "data": {
      "text/html": [
       "<div>\n",
       "<style scoped>\n",
       "    .dataframe tbody tr th:only-of-type {\n",
       "        vertical-align: middle;\n",
       "    }\n",
       "\n",
       "    .dataframe tbody tr th {\n",
       "        vertical-align: top;\n",
       "    }\n",
       "\n",
       "    .dataframe thead th {\n",
       "        text-align: right;\n",
       "    }\n",
       "</style>\n",
       "<table border=\"1\" class=\"dataframe\">\n",
       "  <thead>\n",
       "    <tr style=\"text-align: right;\">\n",
       "      <th></th>\n",
       "      <th>id</th>\n",
       "      <th>latitude</th>\n",
       "      <th>longitude</th>\n",
       "      <th>track_id</th>\n",
       "      <th>time</th>\n",
       "    </tr>\n",
       "  </thead>\n",
       "  <tbody>\n",
       "    <tr>\n",
       "      <th>0</th>\n",
       "      <td>1</td>\n",
       "      <td>-10.939341</td>\n",
       "      <td>-37.062742</td>\n",
       "      <td>1</td>\n",
       "      <td>2014-09-13 07:24:32</td>\n",
       "    </tr>\n",
       "    <tr>\n",
       "      <th>1</th>\n",
       "      <td>2</td>\n",
       "      <td>-10.939341</td>\n",
       "      <td>-37.062742</td>\n",
       "      <td>1</td>\n",
       "      <td>2014-09-13 07:24:37</td>\n",
       "    </tr>\n",
       "    <tr>\n",
       "      <th>2</th>\n",
       "      <td>3</td>\n",
       "      <td>-10.939324</td>\n",
       "      <td>-37.062765</td>\n",
       "      <td>1</td>\n",
       "      <td>2014-09-13 07:24:42</td>\n",
       "    </tr>\n",
       "    <tr>\n",
       "      <th>3</th>\n",
       "      <td>4</td>\n",
       "      <td>-10.939211</td>\n",
       "      <td>-37.062843</td>\n",
       "      <td>1</td>\n",
       "      <td>2014-09-13 07:24:47</td>\n",
       "    </tr>\n",
       "    <tr>\n",
       "      <th>4</th>\n",
       "      <td>5</td>\n",
       "      <td>-10.938939</td>\n",
       "      <td>-37.062879</td>\n",
       "      <td>1</td>\n",
       "      <td>2014-09-13 07:24:53</td>\n",
       "    </tr>\n",
       "  </tbody>\n",
       "</table>\n",
       "</div>"
      ],
      "text/plain": [
       "   id   latitude  longitude  track_id                 time\n",
       "0   1 -10.939341 -37.062742         1  2014-09-13 07:24:32\n",
       "1   2 -10.939341 -37.062742         1  2014-09-13 07:24:37\n",
       "2   3 -10.939324 -37.062765         1  2014-09-13 07:24:42\n",
       "3   4 -10.939211 -37.062843         1  2014-09-13 07:24:47\n",
       "4   5 -10.938939 -37.062879         1  2014-09-13 07:24:53"
      ]
     },
     "execution_count": 15,
     "metadata": {},
     "output_type": "execute_result"
    }
   ],
   "source": [
    "df.head()"
   ]
  },
  {
   "cell_type": "markdown",
   "metadata": {},
   "source": [
    "##  1. Find trend of speed over time"
   ]
  },
  {
   "cell_type": "code",
   "execution_count": 17,
   "metadata": {},
   "outputs": [],
   "source": [
    "# First thing we need is a function which calculates distances betweeen 2 coordinates\n",
    "\n",
    "def find_distance(lat1, long1, lat2, long2):\n",
    "    \n",
    "    DOF_lat = lat1 - lat2\n",
    "    DOF_long = long1 - long2\n",
    "    \n",
    "    dist_lat = DOF_lat * 111139\n",
    "    dist_long = DOF_long * 111139\n",
    "    \n",
    "    dist = np.sqrt((dist_lat*dist_lat) + (dist_long*dist_long))\n",
    "    \n",
    "    return dist"
   ]
  },
  {
   "cell_type": "code",
   "execution_count": 19,
   "metadata": {},
   "outputs": [
    {
     "data": {
      "text/plain": [
       "array([    1,     2,     3,     4,     8,    10,    11,    12,    13,\n",
       "          14,    16,    17,    18,    19,    20,    21,    22,    23,\n",
       "          24,    25,    26,    27,    28,    30,    31,    33,    34,\n",
       "          35,    36,    37,    38,    39,    40,    41,    42,    43,\n",
       "          44,    45,    46,    47,    48,    49,    50,    51,    54,\n",
       "          55,    56,    58,    61,    63,    65,    67,    70,    71,\n",
       "          78,    99,   128,   131,   132,   133,   134,   135,   136,\n",
       "         137,   138,   139,   140,   141,   142,   143,   145,   146,\n",
       "         147,   148,   149,   150,   151,   153,   155,   156,   157,\n",
       "         158,   159,   171,   173,   177,   179,   180,   190,   205,\n",
       "         206,   207,   208,   209,   210,   248, 32446, 32447, 37945,\n",
       "       37949, 37951, 37950, 37953, 37954, 37955, 37956, 37957, 37960,\n",
       "       37961, 37962, 37964, 37965, 37967, 37969, 37971, 37972, 37973,\n",
       "       37979, 37982, 37983, 37989, 37990, 37992, 37993, 37995, 37996,\n",
       "       37997, 37998, 38000, 38001, 38002, 38003, 38012, 38013, 38015,\n",
       "       38016, 38017, 38018, 38019, 38020, 38021, 38022, 38024, 38030,\n",
       "       38031, 38039, 38044, 38045, 38064, 38069, 38072, 38073, 38074,\n",
       "       38075, 38076, 38077, 38079, 38080, 38081, 38082, 38084, 38090,\n",
       "       38092], dtype=int64)"
      ]
     },
     "execution_count": 19,
     "metadata": {},
     "output_type": "execute_result"
    }
   ],
   "source": [
    "# Lets select one trip\n",
    "df[\"track_id\"].unique()"
   ]
  },
  {
   "cell_type": "code",
   "execution_count": 81,
   "metadata": {},
   "outputs": [
    {
     "data": {
      "text/html": [
       "<div>\n",
       "<style scoped>\n",
       "    .dataframe tbody tr th:only-of-type {\n",
       "        vertical-align: middle;\n",
       "    }\n",
       "\n",
       "    .dataframe tbody tr th {\n",
       "        vertical-align: top;\n",
       "    }\n",
       "\n",
       "    .dataframe thead th {\n",
       "        text-align: right;\n",
       "    }\n",
       "</style>\n",
       "<table border=\"1\" class=\"dataframe\">\n",
       "  <thead>\n",
       "    <tr style=\"text-align: right;\">\n",
       "      <th></th>\n",
       "      <th>id</th>\n",
       "      <th>latitude</th>\n",
       "      <th>longitude</th>\n",
       "      <th>track_id</th>\n",
       "      <th>time</th>\n",
       "    </tr>\n",
       "  </thead>\n",
       "  <tbody>\n",
       "    <tr>\n",
       "      <th>90</th>\n",
       "      <td>91</td>\n",
       "      <td>-10.939439</td>\n",
       "      <td>-37.062428</td>\n",
       "      <td>2</td>\n",
       "      <td>2014-09-13 13:37:54</td>\n",
       "    </tr>\n",
       "    <tr>\n",
       "      <th>91</th>\n",
       "      <td>92</td>\n",
       "      <td>-10.939442</td>\n",
       "      <td>-37.062570</td>\n",
       "      <td>2</td>\n",
       "      <td>2014-09-13 13:37:59</td>\n",
       "    </tr>\n",
       "    <tr>\n",
       "      <th>92</th>\n",
       "      <td>93</td>\n",
       "      <td>-10.939442</td>\n",
       "      <td>-37.062570</td>\n",
       "      <td>2</td>\n",
       "      <td>2014-09-13 13:38:05</td>\n",
       "    </tr>\n",
       "    <tr>\n",
       "      <th>93</th>\n",
       "      <td>94</td>\n",
       "      <td>-10.939442</td>\n",
       "      <td>-37.062570</td>\n",
       "      <td>2</td>\n",
       "      <td>2014-09-13 13:38:11</td>\n",
       "    </tr>\n",
       "    <tr>\n",
       "      <th>94</th>\n",
       "      <td>95</td>\n",
       "      <td>-10.938994</td>\n",
       "      <td>-37.062804</td>\n",
       "      <td>2</td>\n",
       "      <td>2014-09-13 13:38:17</td>\n",
       "    </tr>\n",
       "  </tbody>\n",
       "</table>\n",
       "</div>"
      ],
      "text/plain": [
       "    id   latitude  longitude  track_id                 time\n",
       "90  91 -10.939439 -37.062428         2  2014-09-13 13:37:54\n",
       "91  92 -10.939442 -37.062570         2  2014-09-13 13:37:59\n",
       "92  93 -10.939442 -37.062570         2  2014-09-13 13:38:05\n",
       "93  94 -10.939442 -37.062570         2  2014-09-13 13:38:11\n",
       "94  95 -10.938994 -37.062804         2  2014-09-13 13:38:17"
      ]
     },
     "execution_count": 81,
     "metadata": {},
     "output_type": "execute_result"
    }
   ],
   "source": [
    "trip = 1\n",
    "trip_filter = df[\"track_id\"] == 2\n",
    "df_trip = df[trip_filter]\n",
    "df_trip.head()"
   ]
  },
  {
   "cell_type": "code",
   "execution_count": 33,
   "metadata": {},
   "outputs": [],
   "source": [
    "# Find total duration of trip\n",
    "from dateutil import parser"
   ]
  },
  {
   "cell_type": "code",
   "execution_count": 97,
   "metadata": {},
   "outputs": [],
   "source": [
    "df_len = len(df_trip) - 1\n",
    "start = parser.parse(df_trip[\"time\"].iloc[0])\n",
    "end = parser.parse(df_trip[\"time\"].iloc[df_len])\n",
    "\n",
    "time_delta = end - start\n",
    "total_time = time_delta.total_seconds()"
   ]
  },
  {
   "cell_type": "code",
   "execution_count": 99,
   "metadata": {},
   "outputs": [
    {
     "data": {
      "text/plain": [
       "613.0"
      ]
     },
     "execution_count": 99,
     "metadata": {},
     "output_type": "execute_result"
    }
   ],
   "source": [
    "total_time"
   ]
  },
  {
   "cell_type": "code",
   "execution_count": 133,
   "metadata": {},
   "outputs": [],
   "source": [
    "# Function to find time between two points:\n",
    "\n",
    "def find_time(df_trip, loc1, loc2):\n",
    "    \n",
    "    start = parser.parse(df_trip[\"time\"].iloc[loc1])\n",
    "    end = parser.parse(df_trip[\"time\"].iloc[loc2])\n",
    "    time_delta = end - start\n",
    "    seconds = time_delta.total_seconds()\n",
    "    \n",
    "    return seconds\n",
    "    \n",
    "    "
   ]
  },
  {
   "cell_type": "code",
   "execution_count": 157,
   "metadata": {},
   "outputs": [],
   "source": [
    "df_speed = pd.DataFrame(columns=[\"speed\", \"time\"])\n",
    "\n",
    "df_len = len(df_trip) - 1\n",
    "total_time = 0\n",
    "\n",
    "for i in range(df_len):\n",
    "    \n",
    "    time = find_time(df_trip, i, i+1)\n",
    "    distance = find_distance(df_trip[\"latitude\"].iloc[i], df_trip[\"longitude\"].iloc[i], df_trip[\"latitude\"].iloc[i+1], df_trip[\"longitude\"].iloc[i+1])\n",
    "    speed = (distance/time) * (18/5)\n",
    "    total_time = total_time  + (time/60)\n",
    "    df_speed = df_speed.append({\"speed\":speed, \"time\" : total_time}, ignore_index = True)"
   ]
  },
  {
   "cell_type": "code",
   "execution_count": 158,
   "metadata": {},
   "outputs": [
    {
     "data": {
      "text/html": [
       "<div>\n",
       "<style scoped>\n",
       "    .dataframe tbody tr th:only-of-type {\n",
       "        vertical-align: middle;\n",
       "    }\n",
       "\n",
       "    .dataframe tbody tr th {\n",
       "        vertical-align: top;\n",
       "    }\n",
       "\n",
       "    .dataframe thead th {\n",
       "        text-align: right;\n",
       "    }\n",
       "</style>\n",
       "<table border=\"1\" class=\"dataframe\">\n",
       "  <thead>\n",
       "    <tr style=\"text-align: right;\">\n",
       "      <th></th>\n",
       "      <th>speed</th>\n",
       "      <th>time</th>\n",
       "    </tr>\n",
       "  </thead>\n",
       "  <tbody>\n",
       "    <tr>\n",
       "      <th>0</th>\n",
       "      <td>11.328519</td>\n",
       "      <td>0.083333</td>\n",
       "    </tr>\n",
       "    <tr>\n",
       "      <th>1</th>\n",
       "      <td>0.000000</td>\n",
       "      <td>0.183333</td>\n",
       "    </tr>\n",
       "    <tr>\n",
       "      <th>2</th>\n",
       "      <td>0.000000</td>\n",
       "      <td>0.283333</td>\n",
       "    </tr>\n",
       "    <tr>\n",
       "      <th>3</th>\n",
       "      <td>33.725846</td>\n",
       "      <td>0.383333</td>\n",
       "    </tr>\n",
       "    <tr>\n",
       "      <th>4</th>\n",
       "      <td>33.805915</td>\n",
       "      <td>0.466667</td>\n",
       "    </tr>\n",
       "  </tbody>\n",
       "</table>\n",
       "</div>"
      ],
      "text/plain": [
       "       speed      time\n",
       "0  11.328519  0.083333\n",
       "1   0.000000  0.183333\n",
       "2   0.000000  0.283333\n",
       "3  33.725846  0.383333\n",
       "4  33.805915  0.466667"
      ]
     },
     "execution_count": 158,
     "metadata": {},
     "output_type": "execute_result"
    }
   ],
   "source": [
    "df_speed.head()"
   ]
  },
  {
   "cell_type": "code",
   "execution_count": 159,
   "metadata": {},
   "outputs": [
    {
     "data": {
      "text/html": [
       "<div>\n",
       "<style scoped>\n",
       "    .dataframe tbody tr th:only-of-type {\n",
       "        vertical-align: middle;\n",
       "    }\n",
       "\n",
       "    .dataframe tbody tr th {\n",
       "        vertical-align: top;\n",
       "    }\n",
       "\n",
       "    .dataframe thead th {\n",
       "        text-align: right;\n",
       "    }\n",
       "</style>\n",
       "<table border=\"1\" class=\"dataframe\">\n",
       "  <thead>\n",
       "    <tr style=\"text-align: right;\">\n",
       "      <th></th>\n",
       "      <th>speed</th>\n",
       "      <th>time</th>\n",
       "    </tr>\n",
       "  </thead>\n",
       "  <tbody>\n",
       "    <tr>\n",
       "      <th>count</th>\n",
       "      <td>112.000000</td>\n",
       "      <td>112.000000</td>\n",
       "    </tr>\n",
       "    <tr>\n",
       "      <th>mean</th>\n",
       "      <td>32.725282</td>\n",
       "      <td>5.167708</td>\n",
       "    </tr>\n",
       "    <tr>\n",
       "      <th>std</th>\n",
       "      <td>23.387446</td>\n",
       "      <td>2.963860</td>\n",
       "    </tr>\n",
       "    <tr>\n",
       "      <th>min</th>\n",
       "      <td>0.000000</td>\n",
       "      <td>0.083333</td>\n",
       "    </tr>\n",
       "    <tr>\n",
       "      <th>25%</th>\n",
       "      <td>13.670170</td>\n",
       "      <td>2.645833</td>\n",
       "    </tr>\n",
       "    <tr>\n",
       "      <th>50%</th>\n",
       "      <td>28.470557</td>\n",
       "      <td>5.150000</td>\n",
       "    </tr>\n",
       "    <tr>\n",
       "      <th>75%</th>\n",
       "      <td>50.008543</td>\n",
       "      <td>7.720833</td>\n",
       "    </tr>\n",
       "    <tr>\n",
       "      <th>max</th>\n",
       "      <td>87.599129</td>\n",
       "      <td>10.216667</td>\n",
       "    </tr>\n",
       "  </tbody>\n",
       "</table>\n",
       "</div>"
      ],
      "text/plain": [
       "            speed        time\n",
       "count  112.000000  112.000000\n",
       "mean    32.725282    5.167708\n",
       "std     23.387446    2.963860\n",
       "min      0.000000    0.083333\n",
       "25%     13.670170    2.645833\n",
       "50%     28.470557    5.150000\n",
       "75%     50.008543    7.720833\n",
       "max     87.599129   10.216667"
      ]
     },
     "execution_count": 159,
     "metadata": {},
     "output_type": "execute_result"
    }
   ],
   "source": [
    "df_speed.describe()"
   ]
  },
  {
   "cell_type": "markdown",
   "metadata": {},
   "source": [
    "**No outliers or invalid values**"
   ]
  },
  {
   "cell_type": "code",
   "execution_count": 165,
   "metadata": {},
   "outputs": [
    {
     "data": {
      "image/png": "[encoded data removed]",
      "text/plain": [
       "<Figure size 864x432 with 1 Axes>"
      ]
     },
     "metadata": {},
     "output_type": "display_data"
    }
   ],
   "source": [
    "x = np.arange(0,112)\n",
    "ticks = np.arange(0,112,50)\n",
    "plt.figure(figsize=(12,6))\n",
    "plt.title(\"Trend of speed over time\")\n",
    "plt.style.use(\"ggplot\")\n",
    "plt.plot(df_speed[\"time\"], df_speed[\"speed\"])\n",
    "plt.xlabel(\"Time (minutes)\")\n",
    "plt.ylabel(\"Speed (km/hr)\")\n",
    "plt.show()"
   ]
  },
  {
   "cell_type": "markdown",
   "metadata": {},
   "source": [
    "**Here we can get an overview of speed of the car over the duration of the whole trip. We can see at which time the driver overspeed, stopped etc.**"
   ]
  },
  {
   "cell_type": "code",
   "execution_count": null,
   "metadata": {},
   "outputs": [],
   "source": []
  }
 ],
 "metadata": {
  "kernelspec": {
   "display_name": "Python 3",
   "language": "python",
   "name": "python3"
  },
  "language_info": {
   "codemirror_mode": {
    "name": "ipython",
    "version": 3
   },
   "file_extension": ".py",
   "mimetype": "text/x-python",
   "name": "python",
   "nbconvert_exporter": "python",
   "pygments_lexer": "ipython3",
   "version": "3.6.7"
  }
 },
 "nbformat": 4,
 "nbformat_minor": 2
}
