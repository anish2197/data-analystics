{
 "cells": [
  {
   "cell_type": "code",
   "execution_count": 1,
   "metadata": {},
   "outputs": [],
   "source": [
    "import pandas as pd\n",
    "import numpy as np\n",
    "import matplotlib.pyplot as plt\n",
    "import seaborn as sns\n",
    "plt.style.use(\"ggplot\")"
   ]
  },
  {
   "cell_type": "code",
   "execution_count": 3,
   "metadata": {},
   "outputs": [],
   "source": [
    "df = pd.read_csv(\"datasets/go_trackspoints.csv\")"
   ]
  },
  {
   "cell_type": "markdown",
   "metadata": {},
   "source": [
    "### 1. Exploratory Data Analysis"
   ]
  },
  {
   "cell_type": "code",
   "execution_count": 7,
   "metadata": {},
   "outputs": [
    {
     "data": {
      "text/html": [
       "<div>\n",
       "<style scoped>\n",
       "    .dataframe tbody tr th:only-of-type {\n",
       "        vertical-align: middle;\n",
       "    }\n",
       "\n",
       "    .dataframe tbody tr th {\n",
       "        vertical-align: top;\n",
       "    }\n",
       "\n",
       "    .dataframe thead th {\n",
       "        text-align: right;\n",
       "    }\n",
       "</style>\n",
       "<table border=\"1\" class=\"dataframe\">\n",
       "  <thead>\n",
       "    <tr style=\"text-align: right;\">\n",
       "      <th></th>\n",
       "      <th>id</th>\n",
       "      <th>latitude</th>\n",
       "      <th>longitude</th>\n",
       "      <th>track_id</th>\n",
       "      <th>time</th>\n",
       "    </tr>\n",
       "  </thead>\n",
       "  <tbody>\n",
       "    <tr>\n",
       "      <th>0</th>\n",
       "      <td>1</td>\n",
       "      <td>-10.939341</td>\n",
       "      <td>-37.062742</td>\n",
       "      <td>1</td>\n",
       "      <td>2014-09-13 07:24:32</td>\n",
       "    </tr>\n",
       "    <tr>\n",
       "      <th>1</th>\n",
       "      <td>2</td>\n",
       "      <td>-10.939341</td>\n",
       "      <td>-37.062742</td>\n",
       "      <td>1</td>\n",
       "      <td>2014-09-13 07:24:37</td>\n",
       "    </tr>\n",
       "    <tr>\n",
       "      <th>2</th>\n",
       "      <td>3</td>\n",
       "      <td>-10.939324</td>\n",
       "      <td>-37.062765</td>\n",
       "      <td>1</td>\n",
       "      <td>2014-09-13 07:24:42</td>\n",
       "    </tr>\n",
       "    <tr>\n",
       "      <th>3</th>\n",
       "      <td>4</td>\n",
       "      <td>-10.939211</td>\n",
       "      <td>-37.062843</td>\n",
       "      <td>1</td>\n",
       "      <td>2014-09-13 07:24:47</td>\n",
       "    </tr>\n",
       "    <tr>\n",
       "      <th>4</th>\n",
       "      <td>5</td>\n",
       "      <td>-10.938939</td>\n",
       "      <td>-37.062879</td>\n",
       "      <td>1</td>\n",
       "      <td>2014-09-13 07:24:53</td>\n",
       "    </tr>\n",
       "  </tbody>\n",
       "</table>\n",
       "</div>"
      ],
      "text/plain": [
       "   id   latitude  longitude  track_id                 time\n",
       "0   1 -10.939341 -37.062742         1  2014-09-13 07:24:32\n",
       "1   2 -10.939341 -37.062742         1  2014-09-13 07:24:37\n",
       "2   3 -10.939324 -37.062765         1  2014-09-13 07:24:42\n",
       "3   4 -10.939211 -37.062843         1  2014-09-13 07:24:47\n",
       "4   5 -10.938939 -37.062879         1  2014-09-13 07:24:53"
      ]
     },
     "execution_count": 7,
     "metadata": {},
     "output_type": "execute_result"
    }
   ],
   "source": [
    "df.head()"
   ]
  },
  {
   "cell_type": "code",
   "execution_count": 8,
   "metadata": {},
   "outputs": [
    {
     "data": {
      "text/plain": [
       "(18107, 5)"
      ]
     },
     "execution_count": 8,
     "metadata": {},
     "output_type": "execute_result"
    }
   ],
   "source": [
    "df.shape"
   ]
  },
  {
   "cell_type": "code",
   "execution_count": 9,
   "metadata": {},
   "outputs": [
    {
     "name": "stdout",
     "output_type": "stream",
     "text": [
      "<class 'pandas.core.frame.DataFrame'>\n",
      "RangeIndex: 18107 entries, 0 to 18106\n",
      "Data columns (total 5 columns):\n",
      "id           18107 non-null int64\n",
      "latitude     18107 non-null float64\n",
      "longitude    18107 non-null float64\n",
      "track_id     18107 non-null int64\n",
      "time         18107 non-null object\n",
      "dtypes: float64(2), int64(2), object(1)\n",
      "memory usage: 707.4+ KB\n"
     ]
    }
   ],
   "source": [
    "df.info()"
   ]
  },
  {
   "cell_type": "code",
   "execution_count": 10,
   "metadata": {},
   "outputs": [
    {
     "data": {
      "text/html": [
       "<div>\n",
       "<style scoped>\n",
       "    .dataframe tbody tr th:only-of-type {\n",
       "        vertical-align: middle;\n",
       "    }\n",
       "\n",
       "    .dataframe tbody tr th {\n",
       "        vertical-align: top;\n",
       "    }\n",
       "\n",
       "    .dataframe thead th {\n",
       "        text-align: right;\n",
       "    }\n",
       "</style>\n",
       "<table border=\"1\" class=\"dataframe\">\n",
       "  <thead>\n",
       "    <tr style=\"text-align: right;\">\n",
       "      <th></th>\n",
       "      <th>id</th>\n",
       "      <th>latitude</th>\n",
       "      <th>longitude</th>\n",
       "      <th>track_id</th>\n",
       "    </tr>\n",
       "  </thead>\n",
       "  <tbody>\n",
       "    <tr>\n",
       "      <th>count</th>\n",
       "      <td>18107.000000</td>\n",
       "      <td>18107.000000</td>\n",
       "      <td>18107.000000</td>\n",
       "      <td>18107.000000</td>\n",
       "    </tr>\n",
       "    <tr>\n",
       "      <th>mean</th>\n",
       "      <td>9958.405920</td>\n",
       "      <td>-10.998744</td>\n",
       "      <td>-37.111923</td>\n",
       "      <td>13296.340697</td>\n",
       "    </tr>\n",
       "    <tr>\n",
       "      <th>std</th>\n",
       "      <td>5748.673657</td>\n",
       "      <td>1.329848</td>\n",
       "      <td>0.938015</td>\n",
       "      <td>18040.767448</td>\n",
       "    </tr>\n",
       "    <tr>\n",
       "      <th>min</th>\n",
       "      <td>1.000000</td>\n",
       "      <td>-27.603175</td>\n",
       "      <td>-48.632918</td>\n",
       "      <td>1.000000</td>\n",
       "    </tr>\n",
       "    <tr>\n",
       "      <th>25%</th>\n",
       "      <td>4736.500000</td>\n",
       "      <td>-10.944041</td>\n",
       "      <td>-37.073069</td>\n",
       "      <td>33.000000</td>\n",
       "    </tr>\n",
       "    <tr>\n",
       "      <th>50%</th>\n",
       "      <td>10376.000000</td>\n",
       "      <td>-10.922000</td>\n",
       "      <td>-37.057784</td>\n",
       "      <td>136.000000</td>\n",
       "    </tr>\n",
       "    <tr>\n",
       "      <th>75%</th>\n",
       "      <td>15004.500000</td>\n",
       "      <td>-10.904268</td>\n",
       "      <td>-37.050190</td>\n",
       "      <td>37992.000000</td>\n",
       "    </tr>\n",
       "    <tr>\n",
       "      <th>max</th>\n",
       "      <td>19569.000000</td>\n",
       "      <td>-10.292845</td>\n",
       "      <td>-36.493357</td>\n",
       "      <td>38092.000000</td>\n",
       "    </tr>\n",
       "  </tbody>\n",
       "</table>\n",
       "</div>"
      ],
      "text/plain": [
       "                 id      latitude     longitude      track_id\n",
       "count  18107.000000  18107.000000  18107.000000  18107.000000\n",
       "mean    9958.405920    -10.998744    -37.111923  13296.340697\n",
       "std     5748.673657      1.329848      0.938015  18040.767448\n",
       "min        1.000000    -27.603175    -48.632918      1.000000\n",
       "25%     4736.500000    -10.944041    -37.073069     33.000000\n",
       "50%    10376.000000    -10.922000    -37.057784    136.000000\n",
       "75%    15004.500000    -10.904268    -37.050190  37992.000000\n",
       "max    19569.000000    -10.292845    -36.493357  38092.000000"
      ]
     },
     "execution_count": 10,
     "metadata": {},
     "output_type": "execute_result"
    }
   ],
   "source": [
    "df.describe()"
   ]
  },
  {
   "cell_type": "markdown",
   "metadata": {},
   "source": [
    "* No missing values\n",
    "* No invalid latitude and longitude values"
   ]
  },
  {
   "cell_type": "code",
   "execution_count": 13,
   "metadata": {},
   "outputs": [
    {
     "name": "stdout",
     "output_type": "stream",
     "text": [
      "Number of trips :  (163,)\n",
      "Number of data points :  (18107,)\n"
     ]
    }
   ],
   "source": [
    "print(\"Number of trips : \", df[\"track_id\"].unique().shape)\n",
    "print(\"Number of data points : \", df[\"id\"].unique().shape)"
   ]
  },
  {
   "cell_type": "markdown",
   "metadata": {},
   "source": [
    "From observing the columns we can see that : \n",
    "* We have 18107 data points for 163 trips\n",
    "* Latitudes and Longitudes are in Decimal Degrees format\n",
    "* Data points are 5 seconds apart"
   ]
  },
  {
   "cell_type": "code",
   "execution_count": 14,
   "metadata": {},
   "outputs": [
    {
     "name": "stdout",
     "output_type": "stream",
     "text": [
      "Number of unique latitude positions :  (14133,)\n",
      "Number of unique longitude positions :  (14157,)\n"
     ]
    }
   ],
   "source": [
    "print(\"Number of unique latitude positions : \", df[\"latitude\"].unique().shape)\n",
    "print(\"Number of unique longitude positions : \", df[\"longitude\"].unique().shape)"
   ]
  },
  {
   "cell_type": "markdown",
   "metadata": {},
   "source": [
    "* We can see that the number of unique coordinates are less than total number of records (18107). Thus the car returns to some places it has visited before"
   ]
  },
  {
   "cell_type": "markdown",
   "metadata": {},
   "source": [
    "## 2. Analyzing trips"
   ]
  },
  {
   "cell_type": "code",
   "execution_count": 15,
   "metadata": {},
   "outputs": [
    {
     "data": {
      "text/plain": [
       "array([    1,     2,     3,     4,     8,    10,    11,    12,    13,\n",
       "          14,    16,    17,    18,    19,    20,    21,    22,    23,\n",
       "          24,    25,    26,    27,    28,    30,    31,    33,    34,\n",
       "          35,    36,    37,    38,    39,    40,    41,    42,    43,\n",
       "          44,    45,    46,    47,    48,    49,    50,    51,    54,\n",
       "          55,    56,    58,    61,    63,    65,    67,    70,    71,\n",
       "          78,    99,   128,   131,   132,   133,   134,   135,   136,\n",
       "         137,   138,   139,   140,   141,   142,   143,   145,   146,\n",
       "         147,   148,   149,   150,   151,   153,   155,   156,   157,\n",
       "         158,   159,   171,   173,   177,   179,   180,   190,   205,\n",
       "         206,   207,   208,   209,   210,   248, 32446, 32447, 37945,\n",
       "       37949, 37951, 37950, 37953, 37954, 37955, 37956, 37957, 37960,\n",
       "       37961, 37962, 37964, 37965, 37967, 37969, 37971, 37972, 37973,\n",
       "       37979, 37982, 37983, 37989, 37990, 37992, 37993, 37995, 37996,\n",
       "       37997, 37998, 38000, 38001, 38002, 38003, 38012, 38013, 38015,\n",
       "       38016, 38017, 38018, 38019, 38020, 38021, 38022, 38024, 38030,\n",
       "       38031, 38039, 38044, 38045, 38064, 38069, 38072, 38073, 38074,\n",
       "       38075, 38076, 38077, 38079, 38080, 38081, 38082, 38084, 38090,\n",
       "       38092], dtype=int64)"
      ]
     },
     "execution_count": 15,
     "metadata": {},
     "output_type": "execute_result"
    }
   ],
   "source": [
    "df[\"track_id\"].unique()"
   ]
  },
  {
   "cell_type": "code",
   "execution_count": 20,
   "metadata": {},
   "outputs": [],
   "source": [
    "trip_filter  = df[\"track_id\"] == 1"
   ]
  },
  {
   "cell_type": "code",
   "execution_count": 21,
   "metadata": {},
   "outputs": [
    {
     "data": {
      "text/plain": [
       "(90, 5)"
      ]
     },
     "execution_count": 21,
     "metadata": {},
     "output_type": "execute_result"
    }
   ],
   "source": [
    "df_trip = df[trip_filter]\n",
    "df_trip.shape"
   ]
  },
  {
   "cell_type": "markdown",
   "metadata": {},
   "source": [
    "### 2.1 Visualize the trip route"
   ]
  },
  {
   "cell_type": "code",
   "execution_count": 22,
   "metadata": {},
   "outputs": [
    {
     "data": {
      "image/png": "[encoded data removed]",
      "text/plain": [
       "<Figure size 720x720 with 1 Axes>"
      ]
     },
     "metadata": {
      "needs_background": "light"
     },
     "output_type": "display_data"
    }
   ],
   "source": [
    "plt.figure(figsize=(10,10))\n",
    "plt.title(\"Visualization of trip route\")\n",
    "plt.plot(df_trip[\"longitude\"], df_trip[\"latitude\"])\n",
    "plt.show()"
   ]
  },
  {
   "cell_type": "markdown",
   "metadata": {},
   "source": [
    "### 2.2 Find out distance between start and end point of the trip\n",
    "\n",
    "finding out meters from degrees : https://sciencing.com/convert-distances-degrees-meters-7858322.html"
   ]
  },
  {
   "cell_type": "code",
   "execution_count": 24,
   "metadata": {},
   "outputs": [
    {
     "data": {
      "text/plain": [
       "90"
      ]
     },
     "execution_count": 24,
     "metadata": {},
     "output_type": "execute_result"
    }
   ],
   "source": [
    "len(df_trip)"
   ]
  },
  {
   "cell_type": "code",
   "execution_count": 27,
   "metadata": {},
   "outputs": [
    {
     "name": "stdout",
     "output_type": "stream",
     "text": [
      "latitude    -10.939341\n",
      "longitude   -37.062742\n",
      "Name: 0, dtype: float64\n",
      "latitude    -10.947085\n",
      "longitude   -37.045783\n",
      "Name: 89, dtype: float64\n"
     ]
    }
   ],
   "source": [
    "start = df_trip[[\"latitude\",\"longitude\"]].iloc[0]\n",
    "end = df_trip[[\"latitude\",\"longitude\"]].iloc[89]\n",
    "print(start)\n",
    "print(end)"
   ]
  },
  {
   "cell_type": "code",
   "execution_count": 51,
   "metadata": {},
   "outputs": [],
   "source": [
    "# Step 1: Find out degrees of separation of latitudes and longitudes\n",
    "DOF_lat = start[\"latitude\"] - end[\"latitude\"]\n",
    "DOF_long = start[\"longitude\"] - end[\"longitude\"]\n",
    "\n",
    "# Step 2: Convert degrees of separation to distances (meters)\n",
    "dist_lat = DOF_lat * 111139\n",
    "dist_long = DOF_long * 111139\n",
    "\n",
    "# Step 3: Use pythagoras theorem to find the distance\n",
    "final = np.sqrt((dist_lat*dist_lat) + (dist_long*dist_long))"
   ]
  },
  {
   "cell_type": "code",
   "execution_count": 52,
   "metadata": {},
   "outputs": [
    {
     "name": "stdout",
     "output_type": "stream",
     "text": [
      "The distance between start and end point of the trip is :  2072.03340276235 meters\n"
     ]
    }
   ],
   "source": [
    "print(\"The distance between start and end point of the trip is : \", final, \"meters\")"
   ]
  },
  {
   "cell_type": "markdown",
   "metadata": {},
   "source": [
    "### 2.3 Find out total distance covered in the trip\n",
    "\n",
    "We have data points at the interval of 5 seconds. So we will have to find out the distances between every 2 points and then add them.\n",
    "To simplify things we will define a function which converts latitude and longitude to meters as we did in the above steps."
   ]
  },
  {
   "cell_type": "code",
   "execution_count": 53,
   "metadata": {},
   "outputs": [],
   "source": [
    "def find_distance(start_lat, start_long, end_lat, end_long):\n",
    "    \n",
    "    DOF_lat = start_lat - end_lat\n",
    "    DOF_long = start_long - end_long\n",
    "    \n",
    "    dist_lat = DOF_lat * 111139\n",
    "    dist_long = DOF_long * 111139\n",
    "    \n",
    "    dist = np.sqrt((dist_lat*dist_lat) + (dist_long*dist_long))\n",
    "    \n",
    "    return dist\n",
    "    "
   ]
  },
  {
   "cell_type": "code",
   "execution_count": 54,
   "metadata": {},
   "outputs": [
    {
     "data": {
      "text/plain": [
       "2072.011376406596"
      ]
     },
     "execution_count": 54,
     "metadata": {},
     "output_type": "execute_result"
    }
   ],
   "source": [
    "# Lets verify the function works properly\n",
    "find_distance(-10.939341,-37.062742,-10.947085,-37.045783)"
   ]
  },
  {
   "cell_type": "code",
   "execution_count": null,
   "metadata": {},
   "outputs": [],
   "source": []
  }
 ],
 "metadata": {
  "kernelspec": {
   "display_name": "Python 3",
   "language": "python",
   "name": "python3"
  },
  "language_info": {
   "codemirror_mode": {
    "name": "ipython",
    "version": 3
   },
   "file_extension": ".py",
   "mimetype": "text/x-python",
   "name": "python",
   "nbconvert_exporter": "python",
   "pygments_lexer": "ipython3",
   "version": "3.6.7"
  }
 },
 "nbformat": 4,
 "nbformat_minor": 2
}
