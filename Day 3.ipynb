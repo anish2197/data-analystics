{
 "cells": [
  {
   "cell_type": "code",
   "execution_count": 1,
   "metadata": {},
   "outputs": [],
   "source": [
    "import pandas as pd\n",
    "import numpy as np\n",
    "import matplotlib.pyplot as plt\n",
    "import seaborn as sns\n",
    "plt.style.use(\"ggplot\")"
   ]
  },
  {
   "cell_type": "markdown",
   "metadata": {},
   "source": [
    "Dataset used : GPS Trajectory by UCI\n",
    "link : https://archive.ics.uci.edu/ml/datasets/GPS+Trajectories"
   ]
  },
  {
   "cell_type": "code",
   "execution_count": 2,
   "metadata": {},
   "outputs": [],
   "source": [
    "df = pd.read_csv(\"datasets/go_trackspoints.csv\")"
   ]
  },
  {
   "cell_type": "markdown",
   "metadata": {},
   "source": [
    "### 1. Exploratory Data Analysis"
   ]
  },
  {
   "cell_type": "code",
   "execution_count": 3,
   "metadata": {},
   "outputs": [
    {
     "data": {
      "text/html": [
       "<div>\n",
       "<style scoped>\n",
       "    .dataframe tbody tr th:only-of-type {\n",
       "        vertical-align: middle;\n",
       "    }\n",
       "\n",
       "    .dataframe tbody tr th {\n",
       "        vertical-align: top;\n",
       "    }\n",
       "\n",
       "    .dataframe thead th {\n",
       "        text-align: right;\n",
       "    }\n",
       "</style>\n",
       "<table border=\"1\" class=\"dataframe\">\n",
       "  <thead>\n",
       "    <tr style=\"text-align: right;\">\n",
       "      <th></th>\n",
       "      <th>id</th>\n",
       "      <th>latitude</th>\n",
       "      <th>longitude</th>\n",
       "      <th>track_id</th>\n",
       "      <th>time</th>\n",
       "    </tr>\n",
       "  </thead>\n",
       "  <tbody>\n",
       "    <tr>\n",
       "      <th>0</th>\n",
       "      <td>1</td>\n",
       "      <td>-10.939341</td>\n",
       "      <td>-37.062742</td>\n",
       "      <td>1</td>\n",
       "      <td>2014-09-13 07:24:32</td>\n",
       "    </tr>\n",
       "    <tr>\n",
       "      <th>1</th>\n",
       "      <td>2</td>\n",
       "      <td>-10.939341</td>\n",
       "      <td>-37.062742</td>\n",
       "      <td>1</td>\n",
       "      <td>2014-09-13 07:24:37</td>\n",
       "    </tr>\n",
       "    <tr>\n",
       "      <th>2</th>\n",
       "      <td>3</td>\n",
       "      <td>-10.939324</td>\n",
       "      <td>-37.062765</td>\n",
       "      <td>1</td>\n",
       "      <td>2014-09-13 07:24:42</td>\n",
       "    </tr>\n",
       "    <tr>\n",
       "      <th>3</th>\n",
       "      <td>4</td>\n",
       "      <td>-10.939211</td>\n",
       "      <td>-37.062843</td>\n",
       "      <td>1</td>\n",
       "      <td>2014-09-13 07:24:47</td>\n",
       "    </tr>\n",
       "    <tr>\n",
       "      <th>4</th>\n",
       "      <td>5</td>\n",
       "      <td>-10.938939</td>\n",
       "      <td>-37.062879</td>\n",
       "      <td>1</td>\n",
       "      <td>2014-09-13 07:24:53</td>\n",
       "    </tr>\n",
       "  </tbody>\n",
       "</table>\n",
       "</div>"
      ],
      "text/plain": [
       "   id   latitude  longitude  track_id                 time\n",
       "0   1 -10.939341 -37.062742         1  2014-09-13 07:24:32\n",
       "1   2 -10.939341 -37.062742         1  2014-09-13 07:24:37\n",
       "2   3 -10.939324 -37.062765         1  2014-09-13 07:24:42\n",
       "3   4 -10.939211 -37.062843         1  2014-09-13 07:24:47\n",
       "4   5 -10.938939 -37.062879         1  2014-09-13 07:24:53"
      ]
     },
     "execution_count": 3,
     "metadata": {},
     "output_type": "execute_result"
    }
   ],
   "source": [
    "df.head()"
   ]
  },
  {
   "cell_type": "code",
   "execution_count": 4,
   "metadata": {},
   "outputs": [
    {
     "data": {
      "text/plain": [
       "(18107, 5)"
      ]
     },
     "execution_count": 4,
     "metadata": {},
     "output_type": "execute_result"
    }
   ],
   "source": [
    "df.shape"
   ]
  },
  {
   "cell_type": "code",
   "execution_count": 5,
   "metadata": {},
   "outputs": [
    {
     "name": "stdout",
     "output_type": "stream",
     "text": [
      "<class 'pandas.core.frame.DataFrame'>\n",
      "RangeIndex: 18107 entries, 0 to 18106\n",
      "Data columns (total 5 columns):\n",
      "id           18107 non-null int64\n",
      "latitude     18107 non-null float64\n",
      "longitude    18107 non-null float64\n",
      "track_id     18107 non-null int64\n",
      "time         18107 non-null object\n",
      "dtypes: float64(2), int64(2), object(1)\n",
      "memory usage: 707.4+ KB\n"
     ]
    }
   ],
   "source": [
    "df.info()"
   ]
  },
  {
   "cell_type": "code",
   "execution_count": 6,
   "metadata": {},
   "outputs": [
    {
     "data": {
      "text/html": [
       "<div>\n",
       "<style scoped>\n",
       "    .dataframe tbody tr th:only-of-type {\n",
       "        vertical-align: middle;\n",
       "    }\n",
       "\n",
       "    .dataframe tbody tr th {\n",
       "        vertical-align: top;\n",
       "    }\n",
       "\n",
       "    .dataframe thead th {\n",
       "        text-align: right;\n",
       "    }\n",
       "</style>\n",
       "<table border=\"1\" class=\"dataframe\">\n",
       "  <thead>\n",
       "    <tr style=\"text-align: right;\">\n",
       "      <th></th>\n",
       "      <th>id</th>\n",
       "      <th>latitude</th>\n",
       "      <th>longitude</th>\n",
       "      <th>track_id</th>\n",
       "    </tr>\n",
       "  </thead>\n",
       "  <tbody>\n",
       "    <tr>\n",
       "      <th>count</th>\n",
       "      <td>18107.000000</td>\n",
       "      <td>18107.000000</td>\n",
       "      <td>18107.000000</td>\n",
       "      <td>18107.000000</td>\n",
       "    </tr>\n",
       "    <tr>\n",
       "      <th>mean</th>\n",
       "      <td>9958.405920</td>\n",
       "      <td>-10.998744</td>\n",
       "      <td>-37.111923</td>\n",
       "      <td>13296.340697</td>\n",
       "    </tr>\n",
       "    <tr>\n",
       "      <th>std</th>\n",
       "      <td>5748.673657</td>\n",
       "      <td>1.329848</td>\n",
       "      <td>0.938015</td>\n",
       "      <td>18040.767448</td>\n",
       "    </tr>\n",
       "    <tr>\n",
       "      <th>min</th>\n",
       "      <td>1.000000</td>\n",
       "      <td>-27.603175</td>\n",
       "      <td>-48.632918</td>\n",
       "      <td>1.000000</td>\n",
       "    </tr>\n",
       "    <tr>\n",
       "      <th>25%</th>\n",
       "      <td>4736.500000</td>\n",
       "      <td>-10.944041</td>\n",
       "      <td>-37.073069</td>\n",
       "      <td>33.000000</td>\n",
       "    </tr>\n",
       "    <tr>\n",
       "      <th>50%</th>\n",
       "      <td>10376.000000</td>\n",
       "      <td>-10.922000</td>\n",
       "      <td>-37.057784</td>\n",
       "      <td>136.000000</td>\n",
       "    </tr>\n",
       "    <tr>\n",
       "      <th>75%</th>\n",
       "      <td>15004.500000</td>\n",
       "      <td>-10.904268</td>\n",
       "      <td>-37.050190</td>\n",
       "      <td>37992.000000</td>\n",
       "    </tr>\n",
       "    <tr>\n",
       "      <th>max</th>\n",
       "      <td>19569.000000</td>\n",
       "      <td>-10.292845</td>\n",
       "      <td>-36.493357</td>\n",
       "      <td>38092.000000</td>\n",
       "    </tr>\n",
       "  </tbody>\n",
       "</table>\n",
       "</div>"
      ],
      "text/plain": [
       "                 id      latitude     longitude      track_id\n",
       "count  18107.000000  18107.000000  18107.000000  18107.000000\n",
       "mean    9958.405920    -10.998744    -37.111923  13296.340697\n",
       "std     5748.673657      1.329848      0.938015  18040.767448\n",
       "min        1.000000    -27.603175    -48.632918      1.000000\n",
       "25%     4736.500000    -10.944041    -37.073069     33.000000\n",
       "50%    10376.000000    -10.922000    -37.057784    136.000000\n",
       "75%    15004.500000    -10.904268    -37.050190  37992.000000\n",
       "max    19569.000000    -10.292845    -36.493357  38092.000000"
      ]
     },
     "execution_count": 6,
     "metadata": {},
     "output_type": "execute_result"
    }
   ],
   "source": [
    "df.describe()"
   ]
  },
  {
   "cell_type": "markdown",
   "metadata": {},
   "source": [
    "* **No missing values**\n",
    "* **No invalid latitude and longitude values**"
   ]
  },
  {
   "cell_type": "code",
   "execution_count": 61,
   "metadata": {},
   "outputs": [
    {
     "name": "stdout",
     "output_type": "stream",
     "text": [
      "Number of trips :  (163,)\n",
      "Number of data points :  (18107,)\n"
     ]
    }
   ],
   "source": [
    "print(\"Number of trips : \", df[\"track_id\"].unique().shape)\n",
    "print(\"Number of data points : \", df[\"id\"].unique().shape)"
   ]
  },
  {
   "cell_type": "markdown",
   "metadata": {},
   "source": [
    "**From observing the columns we can see that :**\n",
    "* **We have 18107 data points for 163 trips**\n",
    "* **Latitudes and Longitudes are in Decimal Degrees format**\n",
    "* **Data points are 5 seconds apart**"
   ]
  },
  {
   "cell_type": "code",
   "execution_count": 8,
   "metadata": {
    "scrolled": true
   },
   "outputs": [
    {
     "name": "stdout",
     "output_type": "stream",
     "text": [
      "Number of unique latitude positions :  (14133,)\n",
      "Number of unique longitude positions :  (14157,)\n"
     ]
    }
   ],
   "source": [
    "print(\"Number of unique latitude positions : \", df[\"latitude\"].unique().shape)\n",
    "print(\"Number of unique longitude positions : \", df[\"longitude\"].unique().shape)"
   ]
  },
  {
   "cell_type": "markdown",
   "metadata": {},
   "source": [
    "## 2. Analyzing single trips\n",
    "\n",
    "We will consider trip number \"1\" and try to make some analyses."
   ]
  },
  {
   "cell_type": "code",
   "execution_count": 62,
   "metadata": {},
   "outputs": [
    {
     "data": {
      "text/plain": [
       "array([    1,     2,     3,     4,     8,    10,    11,    12,    13,\n",
       "          14,    16,    17,    18,    19,    20,    21,    22,    23,\n",
       "          24,    25,    26,    27,    28,    30,    31,    33,    34,\n",
       "          35,    36,    37,    38,    39,    40,    41,    42,    43,\n",
       "          44,    45,    46,    47,    48,    49,    50,    51,    54,\n",
       "          55,    56,    58,    61,    63,    65,    67,    70,    71,\n",
       "          78,    99,   128,   131,   132,   133,   134,   135,   136,\n",
       "         137,   138,   139,   140,   141,   142,   143,   145,   146,\n",
       "         147,   148,   149,   150,   151,   153,   155,   156,   157,\n",
       "         158,   159,   171,   173,   177,   179,   180,   190,   205,\n",
       "         206,   207,   208,   209,   210,   248, 32446, 32447, 37945,\n",
       "       37949, 37951, 37950, 37953, 37954, 37955, 37956, 37957, 37960,\n",
       "       37961, 37962, 37964, 37965, 37967, 37969, 37971, 37972, 37973,\n",
       "       37979, 37982, 37983, 37989, 37990, 37992, 37993, 37995, 37996,\n",
       "       37997, 37998, 38000, 38001, 38002, 38003, 38012, 38013, 38015,\n",
       "       38016, 38017, 38018, 38019, 38020, 38021, 38022, 38024, 38030,\n",
       "       38031, 38039, 38044, 38045, 38064, 38069, 38072, 38073, 38074,\n",
       "       38075, 38076, 38077, 38079, 38080, 38081, 38082, 38084, 38090,\n",
       "       38092], dtype=int64)"
      ]
     },
     "execution_count": 62,
     "metadata": {},
     "output_type": "execute_result"
    }
   ],
   "source": [
    "# List of unique trips\n",
    "df[\"track_id\"].unique()"
   ]
  },
  {
   "cell_type": "code",
   "execution_count": 10,
   "metadata": {},
   "outputs": [],
   "source": [
    "# Selecting data points from trip 1 only\n",
    "trip_filter  = df[\"track_id\"] == 1"
   ]
  },
  {
   "cell_type": "code",
   "execution_count": 11,
   "metadata": {},
   "outputs": [
    {
     "data": {
      "text/plain": [
       "(90, 5)"
      ]
     },
     "execution_count": 11,
     "metadata": {},
     "output_type": "execute_result"
    }
   ],
   "source": [
    "df_trip = df[trip_filter]\n",
    "df_trip.shape"
   ]
  },
  {
   "cell_type": "markdown",
   "metadata": {},
   "source": [
    "### 2.1 Visualize the trip route\n",
    "\n",
    "This is the actual representaion of the trip in 2d format"
   ]
  },
  {
   "cell_type": "code",
   "execution_count": 12,
   "metadata": {},
   "outputs": [
    {
     "data": {
      "image/png": "[encoded data removed]",
      "text/plain": [
       "<Figure size 720x720 with 1 Axes>"
      ]
     },
     "metadata": {
      "needs_background": "light"
     },
     "output_type": "display_data"
    }
   ],
   "source": [
    "plt.figure(figsize=(10,10))\n",
    "plt.title(\"Visualization of trip route\")\n",
    "plt.plot(df_trip[\"longitude\"], df_trip[\"latitude\"])\n",
    "plt.show()"
   ]
  },
  {
   "cell_type": "markdown",
   "metadata": {},
   "source": [
    "### 2.2 Find out distance between start and end point of the trip\n",
    "\n",
    "finding out meters from degrees : https://sciencing.com/convert-distances-degrees-meters-7858322.html"
   ]
  },
  {
   "cell_type": "code",
   "execution_count": 63,
   "metadata": {},
   "outputs": [
    {
     "data": {
      "text/plain": [
       "90"
      ]
     },
     "execution_count": 63,
     "metadata": {},
     "output_type": "execute_result"
    }
   ],
   "source": [
    "# Number of data points in trip 1\n",
    "len(df_trip)"
   ]
  },
  {
   "cell_type": "code",
   "execution_count": 64,
   "metadata": {},
   "outputs": [
    {
     "name": "stdout",
     "output_type": "stream",
     "text": [
      "latitude    -10.939341\n",
      "longitude   -37.062742\n",
      "Name: 0, dtype: float64\n",
      "latitude    -10.947085\n",
      "longitude   -37.045783\n",
      "Name: 89, dtype: float64\n"
     ]
    }
   ],
   "source": [
    "# Some details about the start and end points of the trip\n",
    "start = df_trip[[\"latitude\",\"longitude\"]].iloc[0]\n",
    "end = df_trip[[\"latitude\",\"longitude\"]].iloc[89]\n",
    "print(start)\n",
    "print(end)"
   ]
  },
  {
   "cell_type": "code",
   "execution_count": 15,
   "metadata": {},
   "outputs": [],
   "source": [
    "# Step 1: Find out degrees of separation of latitudes and longitudes\n",
    "DOF_lat = start[\"latitude\"] - end[\"latitude\"]\n",
    "DOF_long = start[\"longitude\"] - end[\"longitude\"]\n",
    "\n",
    "# Step 2: Convert degrees of separation to distances (meters)\n",
    "dist_lat = DOF_lat * 111139\n",
    "dist_long = DOF_long * 111139\n",
    "\n",
    "# Step 3: Use pythagoras theorem to find the distance\n",
    "final = np.sqrt((dist_lat*dist_lat) + (dist_long*dist_long))"
   ]
  },
  {
   "cell_type": "code",
   "execution_count": 16,
   "metadata": {},
   "outputs": [
    {
     "name": "stdout",
     "output_type": "stream",
     "text": [
      "The distance between start and end point of the trip is :  2072.03340276235 meters\n"
     ]
    }
   ],
   "source": [
    "print(\"The distance between start and end point of the trip is : \", final, \"meters\")"
   ]
  },
  {
   "cell_type": "markdown",
   "metadata": {},
   "source": [
    "### 2.3 Find out total distance covered in the trip\n",
    "\n",
    "We have data points at the interval of 5 seconds. So we will have to find out the distances between every 2 points and then add them.\n",
    "To simplify things we will define a function which converts latitude and longitude to meters as we did in the above steps."
   ]
  },
  {
   "cell_type": "code",
   "execution_count": 17,
   "metadata": {},
   "outputs": [],
   "source": [
    "# Function to convert degrees to meters\n",
    "def find_distance(start_lat, start_long, end_lat, end_long):\n",
    "    \n",
    "    DOF_lat = start_lat - end_lat\n",
    "    DOF_long = start_long - end_long\n",
    "    \n",
    "    dist_lat = DOF_lat * 111139\n",
    "    dist_long = DOF_long * 111139\n",
    "    \n",
    "    dist = np.sqrt((dist_lat*dist_lat) + (dist_long*dist_long))\n",
    "    \n",
    "    return dist\n",
    "    "
   ]
  },
  {
   "cell_type": "code",
   "execution_count": 18,
   "metadata": {},
   "outputs": [
    {
     "data": {
      "text/plain": [
       "2072.011376406596"
      ]
     },
     "execution_count": 18,
     "metadata": {},
     "output_type": "execute_result"
    }
   ],
   "source": [
    "# Lets verify the function works properly\n",
    "find_distance(-10.939341,-37.062742,-10.947085,-37.045783)"
   ]
  },
  {
   "cell_type": "code",
   "execution_count": 19,
   "metadata": {},
   "outputs": [],
   "source": [
    "# Find out distances between all data points and add them\n",
    "points_no = len(df_trip)\n",
    "total_dist = 0\n",
    "\n",
    "for i in range(points_no - 1):\n",
    "    current_lat = df_trip[\"latitude\"].iloc[i]\n",
    "    current_long = df_trip[\"longitude\"].iloc[i]\n",
    "    next_lat = df_trip[\"latitude\"].iloc[i+1]\n",
    "    next_long = df_trip[\"longitude\"].iloc[i+1]\n",
    "    \n",
    "    delta = find_distance(current_lat,current_long,next_lat,next_long)\n",
    "    \n",
    "    total_dist = total_dist + delta"
   ]
  },
  {
   "cell_type": "code",
   "execution_count": 20,
   "metadata": {},
   "outputs": [],
   "source": [
    "direct_dist = find_distance(df_trip[\"latitude\"].iloc[0], df_trip[\"longitude\"].iloc[0], df_trip[\"latitude\"].iloc[89], df_trip[\"longitude\"].iloc[89])\n",
    "total_time = len(df_trip) * 5"
   ]
  },
  {
   "cell_type": "code",
   "execution_count": 21,
   "metadata": {},
   "outputs": [
    {
     "name": "stdout",
     "output_type": "stream",
     "text": [
      "Time taken for the trip :  450 seconds\n",
      "Direct distance between the start and end location :  2072.03340276235 meters\n",
      "Distance covered by the car in the trip :  2819.20692842891  meters\n",
      "Average speed of the car :  22.55365542743128 km/hr\n"
     ]
    }
   ],
   "source": [
    "print(\"Time taken for the trip : \", total_time, \"seconds\")\n",
    "print(\"Direct distance between the start and end location : \", direct_dist, \"meters\")\n",
    "print(\"Distance covered by the car in the trip : \", total_dist, \" meters\")\n",
    "print(\"Average speed of the car : \", ((total_dist/1000) / (total_time/3600)) , \"km/hr\")"
   ]
  },
  {
   "cell_type": "markdown",
   "metadata": {},
   "source": [
    "## 3. Analyzing multiple trips"
   ]
  },
  {
   "cell_type": "markdown",
   "metadata": {},
   "source": [
    "We will have to automate all the things we did in the above steps so we can analyze all the trips in one go"
   ]
  },
  {
   "cell_type": "code",
   "execution_count": 33,
   "metadata": {},
   "outputs": [],
   "source": [
    "# A function to calculate actual distance covered, total time and average speed of the trip\n",
    "\n",
    "def find_trip_details(trip):\n",
    "    trip_filter = df[\"track_id\"] == trip\n",
    "    df_temp = df[trip_filter]\n",
    "    \n",
    "    points_no = len(df_temp)\n",
    "    total_dist = 0\n",
    "    \n",
    "    if(points_no > 1):     #Some values were giving error so had to add this condition\n",
    "        \n",
    "        total_dist = 0\n",
    "        \n",
    "        for i in range(points_no - 1):\n",
    "            current_lat = df_temp[\"latitude\"].iloc[i]\n",
    "            current_long = df_temp[\"longitude\"].iloc[i]\n",
    "            next_lat = df_temp[\"latitude\"].iloc[i+1]\n",
    "            next_long = df_temp[\"longitude\"].iloc[i+1]\n",
    "    \n",
    "            delta = find_distance(current_lat,current_long,next_lat,next_long)\n",
    "    \n",
    "            total_dist = total_dist + delta\n",
    "        \n",
    "            total_time = (5 * points_no)\n",
    "        \n",
    "            average_speed = ((total_dist/1000) / (total_time/3600))\n",
    "    \n",
    "        return total_dist, (total_time/60), average_speed\n",
    "    \n",
    "    if(points_no <= 1):\n",
    "        \n",
    "        return 0, 0, 0\n",
    "    \n"
   ]
  },
  {
   "cell_type": "code",
   "execution_count": 34,
   "metadata": {},
   "outputs": [],
   "source": [
    "# Make a dataframe which contains details about each individual trips and fill the data\n",
    "trips = df[\"track_id\"].unique()\n",
    "df_trips = pd.DataFrame(columns=[\"trip id\", \"total distance\",\"total time\",\"average speed\"])\n",
    "\n",
    "for trip in trips:\n",
    "    \n",
    "    if trip != 14:\n",
    "        \n",
    "        total_dist, total_time, average_speed = find_trip_details(trip)\n",
    "        #print(trip)\n",
    "    \n",
    "        df_trips = df_trips.append({\"trip id\":trip, \"total distance\":total_dist, \"total time\":total_time, \"average speed\":average_speed},ignore_index=True)\n"
   ]
  },
  {
   "cell_type": "code",
   "execution_count": 36,
   "metadata": {},
   "outputs": [
    {
     "data": {
      "text/html": [
       "<div>\n",
       "<style scoped>\n",
       "    .dataframe tbody tr th:only-of-type {\n",
       "        vertical-align: middle;\n",
       "    }\n",
       "\n",
       "    .dataframe tbody tr th {\n",
       "        vertical-align: top;\n",
       "    }\n",
       "\n",
       "    .dataframe thead th {\n",
       "        text-align: right;\n",
       "    }\n",
       "</style>\n",
       "<table border=\"1\" class=\"dataframe\">\n",
       "  <thead>\n",
       "    <tr style=\"text-align: right;\">\n",
       "      <th></th>\n",
       "      <th>trip id</th>\n",
       "      <th>total distance</th>\n",
       "      <th>total time</th>\n",
       "      <th>average speed</th>\n",
       "    </tr>\n",
       "  </thead>\n",
       "  <tbody>\n",
       "    <tr>\n",
       "      <th>0</th>\n",
       "      <td>1.0</td>\n",
       "      <td>2819.206928</td>\n",
       "      <td>7.500000</td>\n",
       "      <td>22.553655</td>\n",
       "    </tr>\n",
       "    <tr>\n",
       "      <th>1</th>\n",
       "      <td>2.0</td>\n",
       "      <td>5566.947988</td>\n",
       "      <td>9.416667</td>\n",
       "      <td>35.470819</td>\n",
       "    </tr>\n",
       "    <tr>\n",
       "      <th>2</th>\n",
       "      <td>3.0</td>\n",
       "      <td>879.867561</td>\n",
       "      <td>1.916667</td>\n",
       "      <td>27.543680</td>\n",
       "    </tr>\n",
       "    <tr>\n",
       "      <th>3</th>\n",
       "      <td>4.0</td>\n",
       "      <td>7576.887364</td>\n",
       "      <td>10.750000</td>\n",
       "      <td>42.289604</td>\n",
       "    </tr>\n",
       "    <tr>\n",
       "      <th>4</th>\n",
       "      <td>8.0</td>\n",
       "      <td>455.555321</td>\n",
       "      <td>1.666667</td>\n",
       "      <td>16.399992</td>\n",
       "    </tr>\n",
       "  </tbody>\n",
       "</table>\n",
       "</div>"
      ],
      "text/plain": [
       "   trip id  total distance  total time  average speed\n",
       "0      1.0     2819.206928    7.500000      22.553655\n",
       "1      2.0     5566.947988    9.416667      35.470819\n",
       "2      3.0      879.867561    1.916667      27.543680\n",
       "3      4.0     7576.887364   10.750000      42.289604\n",
       "4      8.0      455.555321    1.666667      16.399992"
      ]
     },
     "execution_count": 36,
     "metadata": {},
     "output_type": "execute_result"
    }
   ],
   "source": [
    "df_trips.head()"
   ]
  },
  {
   "cell_type": "markdown",
   "metadata": {},
   "source": [
    "**Now we have a dataframe which contains all the details of trips we calculated using only the latitutes and longitudes of the car. Lets see some statistics and create some visualizations.**"
   ]
  },
  {
   "cell_type": "code",
   "execution_count": 37,
   "metadata": {},
   "outputs": [
    {
     "data": {
      "text/html": [
       "<div>\n",
       "<style scoped>\n",
       "    .dataframe tbody tr th:only-of-type {\n",
       "        vertical-align: middle;\n",
       "    }\n",
       "\n",
       "    .dataframe tbody tr th {\n",
       "        vertical-align: top;\n",
       "    }\n",
       "\n",
       "    .dataframe thead th {\n",
       "        text-align: right;\n",
       "    }\n",
       "</style>\n",
       "<table border=\"1\" class=\"dataframe\">\n",
       "  <thead>\n",
       "    <tr style=\"text-align: right;\">\n",
       "      <th></th>\n",
       "      <th>trip id</th>\n",
       "      <th>total distance</th>\n",
       "      <th>total time</th>\n",
       "      <th>average speed</th>\n",
       "    </tr>\n",
       "  </thead>\n",
       "  <tbody>\n",
       "    <tr>\n",
       "      <th>count</th>\n",
       "      <td>162.000000</td>\n",
       "      <td>162.000000</td>\n",
       "      <td>162.000000</td>\n",
       "      <td>162.000000</td>\n",
       "    </tr>\n",
       "    <tr>\n",
       "      <th>mean</th>\n",
       "      <td>15703.907407</td>\n",
       "      <td>5406.385673</td>\n",
       "      <td>9.309156</td>\n",
       "      <td>39.187201</td>\n",
       "    </tr>\n",
       "    <tr>\n",
       "      <th>std</th>\n",
       "      <td>18661.396963</td>\n",
       "      <td>7852.970235</td>\n",
       "      <td>10.037751</td>\n",
       "      <td>89.831548</td>\n",
       "    </tr>\n",
       "    <tr>\n",
       "      <th>min</th>\n",
       "      <td>1.000000</td>\n",
       "      <td>0.000000</td>\n",
       "      <td>0.000000</td>\n",
       "      <td>0.000000</td>\n",
       "    </tr>\n",
       "    <tr>\n",
       "      <th>25%</th>\n",
       "      <td>49.250000</td>\n",
       "      <td>22.677325</td>\n",
       "      <td>0.937500</td>\n",
       "      <td>2.400169</td>\n",
       "    </tr>\n",
       "    <tr>\n",
       "      <th>50%</th>\n",
       "      <td>158.500000</td>\n",
       "      <td>4097.207171</td>\n",
       "      <td>6.958333</td>\n",
       "      <td>24.946817</td>\n",
       "    </tr>\n",
       "    <tr>\n",
       "      <th>75%</th>\n",
       "      <td>37991.500000</td>\n",
       "      <td>7542.699931</td>\n",
       "      <td>13.520833</td>\n",
       "      <td>39.685678</td>\n",
       "    </tr>\n",
       "    <tr>\n",
       "      <th>max</th>\n",
       "      <td>38092.000000</td>\n",
       "      <td>58117.333347</td>\n",
       "      <td>53.833333</td>\n",
       "      <td>984.901101</td>\n",
       "    </tr>\n",
       "  </tbody>\n",
       "</table>\n",
       "</div>"
      ],
      "text/plain": [
       "            trip id  total distance  total time  average speed\n",
       "count    162.000000      162.000000  162.000000     162.000000\n",
       "mean   15703.907407     5406.385673    9.309156      39.187201\n",
       "std    18661.396963     7852.970235   10.037751      89.831548\n",
       "min        1.000000        0.000000    0.000000       0.000000\n",
       "25%       49.250000       22.677325    0.937500       2.400169\n",
       "50%      158.500000     4097.207171    6.958333      24.946817\n",
       "75%    37991.500000     7542.699931   13.520833      39.685678\n",
       "max    38092.000000    58117.333347   53.833333     984.901101"
      ]
     },
     "execution_count": 37,
     "metadata": {},
     "output_type": "execute_result"
    }
   ],
   "source": [
    "df_trips.describe()"
   ]
  },
  {
   "cell_type": "markdown",
   "metadata": {},
   "source": [
    "* **We can see we have some outliers in average speed. The max average speed is 984 km/hr which is not possible. Lets investigate that.**\n",
    "* **We should also remove trips with zero time and distance as they dont give us any valuable information.**"
   ]
  },
  {
   "cell_type": "code",
   "execution_count": 38,
   "metadata": {},
   "outputs": [
    {
     "data": {
      "text/html": [
       "<div>\n",
       "<style scoped>\n",
       "    .dataframe tbody tr th:only-of-type {\n",
       "        vertical-align: middle;\n",
       "    }\n",
       "\n",
       "    .dataframe tbody tr th {\n",
       "        vertical-align: top;\n",
       "    }\n",
       "\n",
       "    .dataframe thead th {\n",
       "        text-align: right;\n",
       "    }\n",
       "</style>\n",
       "<table border=\"1\" class=\"dataframe\">\n",
       "  <thead>\n",
       "    <tr style=\"text-align: right;\">\n",
       "      <th></th>\n",
       "      <th>trip id</th>\n",
       "      <th>total distance</th>\n",
       "      <th>total time</th>\n",
       "      <th>average speed</th>\n",
       "    </tr>\n",
       "  </thead>\n",
       "  <tbody>\n",
       "    <tr>\n",
       "      <th>107</th>\n",
       "      <td>37961.0</td>\n",
       "      <td>8207.509177</td>\n",
       "      <td>0.500000</td>\n",
       "      <td>984.901101</td>\n",
       "    </tr>\n",
       "    <tr>\n",
       "      <th>18</th>\n",
       "      <td>25.0</td>\n",
       "      <td>8888.784457</td>\n",
       "      <td>1.333333</td>\n",
       "      <td>399.995301</td>\n",
       "    </tr>\n",
       "    <tr>\n",
       "      <th>46</th>\n",
       "      <td>58.0</td>\n",
       "      <td>31631.465049</td>\n",
       "      <td>5.000000</td>\n",
       "      <td>379.577581</td>\n",
       "    </tr>\n",
       "    <tr>\n",
       "      <th>41</th>\n",
       "      <td>50.0</td>\n",
       "      <td>18821.654503</td>\n",
       "      <td>7.083333</td>\n",
       "      <td>159.430485</td>\n",
       "    </tr>\n",
       "    <tr>\n",
       "      <th>40</th>\n",
       "      <td>49.0</td>\n",
       "      <td>18821.654503</td>\n",
       "      <td>7.083333</td>\n",
       "      <td>159.430485</td>\n",
       "    </tr>\n",
       "  </tbody>\n",
       "</table>\n",
       "</div>"
      ],
      "text/plain": [
       "     trip id  total distance  total time  average speed\n",
       "107  37961.0     8207.509177    0.500000     984.901101\n",
       "18      25.0     8888.784457    1.333333     399.995301\n",
       "46      58.0    31631.465049    5.000000     379.577581\n",
       "41      50.0    18821.654503    7.083333     159.430485\n",
       "40      49.0    18821.654503    7.083333     159.430485"
      ]
     },
     "execution_count": 38,
     "metadata": {},
     "output_type": "execute_result"
    }
   ],
   "source": [
    "df_trips = df_trips.sort_values(by=\"average speed\", ascending = False)\n",
    "df_trips.head()"
   ]
  },
  {
   "cell_type": "markdown",
   "metadata": {},
   "source": [
    "**Lets clean this data by keeping the upper cap for the speed as 160 (km/hr). Once this data is cleaned we can proceed with the visualizations.**"
   ]
  },
  {
   "cell_type": "code",
   "execution_count": 65,
   "metadata": {},
   "outputs": [],
   "source": [
    "speed_filter = df_trips[\"average speed\"] <= 160\n",
    "df_trips = df_trips[speed_filter]\n",
    "time_filter = df_trips[\"total time\"] != 0\n",
    "df_trips = df_trips[time_filter]\n",
    "distance_filter = df_trips[\"total distance\"] != 0\n",
    "df_trips = df_trips[distance_filter]"
   ]
  },
  {
   "cell_type": "code",
   "execution_count": 66,
   "metadata": {},
   "outputs": [
    {
     "data": {
      "text/html": [
       "<div>\n",
       "<style scoped>\n",
       "    .dataframe tbody tr th:only-of-type {\n",
       "        vertical-align: middle;\n",
       "    }\n",
       "\n",
       "    .dataframe tbody tr th {\n",
       "        vertical-align: top;\n",
       "    }\n",
       "\n",
       "    .dataframe thead th {\n",
       "        text-align: right;\n",
       "    }\n",
       "</style>\n",
       "<table border=\"1\" class=\"dataframe\">\n",
       "  <thead>\n",
       "    <tr style=\"text-align: right;\">\n",
       "      <th></th>\n",
       "      <th>trip id</th>\n",
       "      <th>total distance</th>\n",
       "      <th>total time</th>\n",
       "      <th>average speed</th>\n",
       "    </tr>\n",
       "  </thead>\n",
       "  <tbody>\n",
       "    <tr>\n",
       "      <th>count</th>\n",
       "      <td>149.000000</td>\n",
       "      <td>149.000000</td>\n",
       "      <td>149.000000</td>\n",
       "      <td>149.000000</td>\n",
       "    </tr>\n",
       "    <tr>\n",
       "      <th>mean</th>\n",
       "      <td>15284.275168</td>\n",
       "      <td>5551.051815</td>\n",
       "      <td>10.074385</td>\n",
       "      <td>30.764111</td>\n",
       "    </tr>\n",
       "    <tr>\n",
       "      <th>std</th>\n",
       "      <td>18581.441041</td>\n",
       "      <td>7765.827441</td>\n",
       "      <td>10.104596</td>\n",
       "      <td>29.963071</td>\n",
       "    </tr>\n",
       "    <tr>\n",
       "      <th>min</th>\n",
       "      <td>1.000000</td>\n",
       "      <td>0.321584</td>\n",
       "      <td>0.166667</td>\n",
       "      <td>0.057906</td>\n",
       "    </tr>\n",
       "    <tr>\n",
       "      <th>25%</th>\n",
       "      <td>47.000000</td>\n",
       "      <td>172.185084</td>\n",
       "      <td>2.166667</td>\n",
       "      <td>4.153762</td>\n",
       "    </tr>\n",
       "    <tr>\n",
       "      <th>50%</th>\n",
       "      <td>156.000000</td>\n",
       "      <td>4685.231078</td>\n",
       "      <td>7.916667</td>\n",
       "      <td>25.605968</td>\n",
       "    </tr>\n",
       "    <tr>\n",
       "      <th>75%</th>\n",
       "      <td>37989.000000</td>\n",
       "      <td>7556.898376</td>\n",
       "      <td>14.250000</td>\n",
       "      <td>39.722910</td>\n",
       "    </tr>\n",
       "    <tr>\n",
       "      <th>max</th>\n",
       "      <td>38092.000000</td>\n",
       "      <td>58117.333347</td>\n",
       "      <td>53.833333</td>\n",
       "      <td>159.430485</td>\n",
       "    </tr>\n",
       "  </tbody>\n",
       "</table>\n",
       "</div>"
      ],
      "text/plain": [
       "            trip id  total distance  total time  average speed\n",
       "count    149.000000      149.000000  149.000000     149.000000\n",
       "mean   15284.275168     5551.051815   10.074385      30.764111\n",
       "std    18581.441041     7765.827441   10.104596      29.963071\n",
       "min        1.000000        0.321584    0.166667       0.057906\n",
       "25%       47.000000      172.185084    2.166667       4.153762\n",
       "50%      156.000000     4685.231078    7.916667      25.605968\n",
       "75%    37989.000000     7556.898376   14.250000      39.722910\n",
       "max    38092.000000    58117.333347   53.833333     159.430485"
      ]
     },
     "execution_count": 66,
     "metadata": {},
     "output_type": "execute_result"
    }
   ],
   "source": [
    "df_trips.describe()"
   ]
  },
  {
   "cell_type": "markdown",
   "metadata": {},
   "source": [
    "**No outliers and invalid values present!**"
   ]
  },
  {
   "cell_type": "code",
   "execution_count": 67,
   "metadata": {},
   "outputs": [
    {
     "data": {
      "image/png": "[encoded data removed]",
      "text/plain": [
       "<Figure size 720x360 with 1 Axes>"
      ]
     },
     "metadata": {
      "needs_background": "light"
     },
     "output_type": "display_data"
    }
   ],
   "source": [
    "color = (np.random.random(),np.random.random(),np.random.random(),np.random.uniform(0.9,0.99))\n",
    "plt.figure(figsize=(10,5))\n",
    "plt.title(\"Distribution for total distance (meters)\")\n",
    "plt.hist(df_trips[\"total distance\"],color=color)\n",
    "plt.show()"
   ]
  },
  {
   "cell_type": "code",
   "execution_count": 73,
   "metadata": {},
   "outputs": [
    {
     "data": {
      "image/png": "[encoded data removed]",
      "text/plain": [
       "<Figure size 720x360 with 1 Axes>"
      ]
     },
     "metadata": {
      "needs_background": "light"
     },
     "output_type": "display_data"
    }
   ],
   "source": [
    "color = (np.random.random(),np.random.random(),np.random.random(),np.random.uniform(0.9,0.99))\n",
    "plt.figure(figsize=(10,5))\n",
    "plt.title(\"Distribution for total time (minutes)\")\n",
    "plt.hist(df_trips[\"total time\"],color=color)\n",
    "plt.show()"
   ]
  },
  {
   "cell_type": "code",
   "execution_count": 76,
   "metadata": {},
   "outputs": [
    {
     "data": {
      "image/png": "[encoded data removed]",
      "text/plain": [
       "<Figure size 720x360 with 1 Axes>"
      ]
     },
     "metadata": {
      "needs_background": "light"
     },
     "output_type": "display_data"
    }
   ],
   "source": [
    "color = (np.random.random(),np.random.random(),np.random.random(),np.random.uniform(0.9,0.99))\n",
    "plt.figure(figsize=(10,5))\n",
    "plt.title(\"Distribution for average speed (km/hr)\")\n",
    "plt.hist(df_trips[\"average speed\"],color=color)\n",
    "plt.show()"
   ]
  },
  {
   "cell_type": "code",
   "execution_count": 60,
   "metadata": {},
   "outputs": [
    {
     "data": {
      "image/png": "[encoded data removed]",
      "text/plain": [
       "<Figure size 504x504 with 2 Axes>"
      ]
     },
     "metadata": {
      "needs_background": "light"
     },
     "output_type": "display_data"
    }
   ],
   "source": [
    "plt.figure(figsize=(7,7))\n",
    "plt.title(\"Correlation Matrix\")\n",
    "sns.heatmap(df_trips[[\"total distance\", \"total time\", \"average speed\"]].corr(), cmap=\"viridis\", square = True, linewidths=0.1, vmax=0.8)\n",
    "plt.show()"
   ]
  },
  {
   "cell_type": "markdown",
   "metadata": {},
   "source": [
    "We can observe that :\n",
    "* There is no negative correlation between any of the parameters. This means that increasing value of any of the parameters the rest of them will either increase or not increase.\n",
    "* **High** Correlation between **total time** and **total distance** (expected).\n",
    "* **Mild** Correlation between **average speed** and **total distance**.\n",
    "* **Very Low** correlation between **average speed** and **total time** (since short trips are also present in data)."
   ]
  },
  {
   "cell_type": "code",
   "execution_count": null,
   "metadata": {},
   "outputs": [],
   "source": []
  }
 ],
 "metadata": {
  "kernelspec": {
   "display_name": "Python 3",
   "language": "python",
   "name": "python3"
  },
  "language_info": {
   "codemirror_mode": {
    "name": "ipython",
    "version": 3
   },
   "file_extension": ".py",
   "mimetype": "text/x-python",
   "name": "python",
   "nbconvert_exporter": "python",
   "pygments_lexer": "ipython3",
   "version": "3.6.7"
  }
 },
 "nbformat": 4,
 "nbformat_minor": 2
}
