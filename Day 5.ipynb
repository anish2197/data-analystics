{
 "cells": [
  {
   "cell_type": "markdown",
   "metadata": {},
   "source": [
    "# Objectives : \n",
    "\n",
    "* Find time and distance spent during day and during night (done)\n",
    "* Find time spend idle vs moving (done)\n",
    "* Find time spent on city road vs highways\n",
    "* Find turns and turning speeds\n",
    "* Compare performance of libraries vs raw python"
   ]
  },
  {
   "cell_type": "code",
   "execution_count": 1,
   "metadata": {},
   "outputs": [],
   "source": [
    "import numpy as np\n",
    "import pandas as pd\n",
    "import matplotlib.pyplot as plt\n",
    "import seaborn as sns"
   ]
  },
  {
   "cell_type": "code",
   "execution_count": 2,
   "metadata": {},
   "outputs": [],
   "source": [
    "df = pd.read_csv(\"datasets/go_trackspoints.csv\")"
   ]
  },
  {
   "cell_type": "code",
   "execution_count": 3,
   "metadata": {},
   "outputs": [
    {
     "data": {
      "text/html": [
       "<div>\n",
       "<style scoped>\n",
       "    .dataframe tbody tr th:only-of-type {\n",
       "        vertical-align: middle;\n",
       "    }\n",
       "\n",
       "    .dataframe tbody tr th {\n",
       "        vertical-align: top;\n",
       "    }\n",
       "\n",
       "    .dataframe thead th {\n",
       "        text-align: right;\n",
       "    }\n",
       "</style>\n",
       "<table border=\"1\" class=\"dataframe\">\n",
       "  <thead>\n",
       "    <tr style=\"text-align: right;\">\n",
       "      <th></th>\n",
       "      <th>id</th>\n",
       "      <th>latitude</th>\n",
       "      <th>longitude</th>\n",
       "      <th>track_id</th>\n",
       "      <th>time</th>\n",
       "    </tr>\n",
       "  </thead>\n",
       "  <tbody>\n",
       "    <tr>\n",
       "      <th>0</th>\n",
       "      <td>1</td>\n",
       "      <td>-10.939341</td>\n",
       "      <td>-37.062742</td>\n",
       "      <td>1</td>\n",
       "      <td>2014-09-13 07:24:32</td>\n",
       "    </tr>\n",
       "    <tr>\n",
       "      <th>1</th>\n",
       "      <td>2</td>\n",
       "      <td>-10.939341</td>\n",
       "      <td>-37.062742</td>\n",
       "      <td>1</td>\n",
       "      <td>2014-09-13 07:24:37</td>\n",
       "    </tr>\n",
       "    <tr>\n",
       "      <th>2</th>\n",
       "      <td>3</td>\n",
       "      <td>-10.939324</td>\n",
       "      <td>-37.062765</td>\n",
       "      <td>1</td>\n",
       "      <td>2014-09-13 07:24:42</td>\n",
       "    </tr>\n",
       "    <tr>\n",
       "      <th>3</th>\n",
       "      <td>4</td>\n",
       "      <td>-10.939211</td>\n",
       "      <td>-37.062843</td>\n",
       "      <td>1</td>\n",
       "      <td>2014-09-13 07:24:47</td>\n",
       "    </tr>\n",
       "    <tr>\n",
       "      <th>4</th>\n",
       "      <td>5</td>\n",
       "      <td>-10.938939</td>\n",
       "      <td>-37.062879</td>\n",
       "      <td>1</td>\n",
       "      <td>2014-09-13 07:24:53</td>\n",
       "    </tr>\n",
       "  </tbody>\n",
       "</table>\n",
       "</div>"
      ],
      "text/plain": [
       "   id   latitude  longitude  track_id                 time\n",
       "0   1 -10.939341 -37.062742         1  2014-09-13 07:24:32\n",
       "1   2 -10.939341 -37.062742         1  2014-09-13 07:24:37\n",
       "2   3 -10.939324 -37.062765         1  2014-09-13 07:24:42\n",
       "3   4 -10.939211 -37.062843         1  2014-09-13 07:24:47\n",
       "4   5 -10.938939 -37.062879         1  2014-09-13 07:24:53"
      ]
     },
     "execution_count": 3,
     "metadata": {},
     "output_type": "execute_result"
    }
   ],
   "source": [
    "df.head()"
   ]
  },
  {
   "cell_type": "markdown",
   "metadata": {},
   "source": [
    "## 1. Time/Day analysis\n",
    "\n",
    "* Time for day : 6am to 7pm\n",
    "* Time for night : 7pm to 6am"
   ]
  },
  {
   "cell_type": "markdown",
   "metadata": {},
   "source": [
    "### 1.2 Time spent driving in day vs night"
   ]
  },
  {
   "cell_type": "code",
   "execution_count": 4,
   "metadata": {},
   "outputs": [
    {
     "data": {
      "text/plain": [
       "18107"
      ]
     },
     "execution_count": 4,
     "metadata": {},
     "output_type": "execute_result"
    }
   ],
   "source": [
    "from dateutil import parser\n",
    "len(df)"
   ]
  },
  {
   "cell_type": "code",
   "execution_count": 5,
   "metadata": {},
   "outputs": [
    {
     "data": {
      "text/html": [
       "<div>\n",
       "<style scoped>\n",
       "    .dataframe tbody tr th:only-of-type {\n",
       "        vertical-align: middle;\n",
       "    }\n",
       "\n",
       "    .dataframe tbody tr th {\n",
       "        vertical-align: top;\n",
       "    }\n",
       "\n",
       "    .dataframe thead th {\n",
       "        text-align: right;\n",
       "    }\n",
       "</style>\n",
       "<table border=\"1\" class=\"dataframe\">\n",
       "  <thead>\n",
       "    <tr style=\"text-align: right;\">\n",
       "      <th></th>\n",
       "      <th>id</th>\n",
       "      <th>latitude</th>\n",
       "      <th>longitude</th>\n",
       "      <th>track_id</th>\n",
       "      <th>time</th>\n",
       "    </tr>\n",
       "  </thead>\n",
       "  <tbody>\n",
       "    <tr>\n",
       "      <th>0</th>\n",
       "      <td>1</td>\n",
       "      <td>-10.939341</td>\n",
       "      <td>-37.062742</td>\n",
       "      <td>1</td>\n",
       "      <td>2014-09-13 07:24:32</td>\n",
       "    </tr>\n",
       "    <tr>\n",
       "      <th>1</th>\n",
       "      <td>2</td>\n",
       "      <td>-10.939341</td>\n",
       "      <td>-37.062742</td>\n",
       "      <td>1</td>\n",
       "      <td>2014-09-13 07:24:37</td>\n",
       "    </tr>\n",
       "    <tr>\n",
       "      <th>2</th>\n",
       "      <td>3</td>\n",
       "      <td>-10.939324</td>\n",
       "      <td>-37.062765</td>\n",
       "      <td>1</td>\n",
       "      <td>2014-09-13 07:24:42</td>\n",
       "    </tr>\n",
       "    <tr>\n",
       "      <th>3</th>\n",
       "      <td>4</td>\n",
       "      <td>-10.939211</td>\n",
       "      <td>-37.062843</td>\n",
       "      <td>1</td>\n",
       "      <td>2014-09-13 07:24:47</td>\n",
       "    </tr>\n",
       "    <tr>\n",
       "      <th>4</th>\n",
       "      <td>5</td>\n",
       "      <td>-10.938939</td>\n",
       "      <td>-37.062879</td>\n",
       "      <td>1</td>\n",
       "      <td>2014-09-13 07:24:53</td>\n",
       "    </tr>\n",
       "  </tbody>\n",
       "</table>\n",
       "</div>"
      ],
      "text/plain": [
       "   id   latitude  longitude  track_id                 time\n",
       "0   1 -10.939341 -37.062742         1  2014-09-13 07:24:32\n",
       "1   2 -10.939341 -37.062742         1  2014-09-13 07:24:37\n",
       "2   3 -10.939324 -37.062765         1  2014-09-13 07:24:42\n",
       "3   4 -10.939211 -37.062843         1  2014-09-13 07:24:47\n",
       "4   5 -10.938939 -37.062879         1  2014-09-13 07:24:53"
      ]
     },
     "execution_count": 5,
     "metadata": {},
     "output_type": "execute_result"
    }
   ],
   "source": [
    "trip = 4\n",
    "trip_filter = df[\"track_id\"] == 1\n",
    "df_trip = df[0:9000]\n",
    "df_trip.head()"
   ]
  },
  {
   "cell_type": "code",
   "execution_count": 6,
   "metadata": {},
   "outputs": [],
   "source": [
    "# A function which takes datetime object as argument and return if the time was \"day\" or \"night\"\n",
    "def day_night(dt_object):\n",
    "    \n",
    "    hour = dt_object.hour\n",
    "    \n",
    "    if(hour <= 19 and hour >= 6):\n",
    "        return \"day\"\n",
    "    else:\n",
    "        return \"night\""
   ]
  },
  {
   "cell_type": "code",
   "execution_count": 7,
   "metadata": {},
   "outputs": [],
   "source": [
    "# Create separate dataframes for day and night data\n",
    "df_day = pd.DataFrame(columns=[\"track_id\", \"latitude\", \"longitude\", \"hour\"])\n",
    "df_night = pd.DataFrame(columns=[\"track_id\", \"latitude\", \"longitude\", \"hour\"])\n",
    "\n",
    "for i in range(len(df_trip)):\n",
    "    \n",
    "    time = day_night(parser.parse(df_trip[\"time\"].iloc[i]))\n",
    "    \n",
    "    if time == \"day\":\n",
    "        hour = (parser.parse(df_trip[\"time\"].iloc[i])).hour\n",
    "        track_id = df_trip[\"track_id\"].iloc[i]\n",
    "        lat = df_trip[\"latitude\"].iloc[i]\n",
    "        long = df_trip[\"longitude\"].iloc[i]\n",
    "        df_day = df_day.append({\"track_id\":track_id, \"latitude\":lat, \"longitude\":long, \"hour\":hour}, ignore_index=True)\n",
    "        \n",
    "    if time == \"night\":\n",
    "        hour = (parser.parse(df_trip[\"time\"].iloc[i])).hour\n",
    "        track_id = df_trip[\"track_id\"].iloc[i]\n",
    "        lat = df_trip[\"latitude\"].iloc[i]\n",
    "        long = df_trip[\"longitude\"].iloc[i]\n",
    "        df_night = df_night.append({\"track_id\":track_id, \"latitude\":lat, \"longitude\":long, \"hour\":hour}, ignore_index=True) "
   ]
  },
  {
   "cell_type": "code",
   "execution_count": 9,
   "metadata": {},
   "outputs": [
    {
     "data": {
      "image/png": "[encoded data removed]",
      "text/plain": [
       "<Figure size 864x576 with 1 Axes>"
      ]
     },
     "metadata": {},
     "output_type": "display_data"
    },
    {
     "data": {
      "image/png": "[encoded data removed]",
      "text/plain": [
       "<Figure size 864x360 with 1 Axes>"
      ]
     },
     "metadata": {
      "needs_background": "light"
     },
     "output_type": "display_data"
    },
    {
     "name": "stdout",
     "output_type": "stream",
     "text": [
      "Day driving time :  11.380555555555556  hours\n",
      "Night driving time :  1.1194444444444445  hours\n"
     ]
    }
   ],
   "source": [
    "plt.figure(figsize=(12,8))\n",
    "\n",
    "plt.title(\"Time spent driving during day vs night\")\n",
    "plt.pie([len(df_day),len(df_night)], labels = [\"Day\", \"Night\"], shadow=True, explode=[0.08, 0.08], autopct=\"%1.f%%\")\n",
    "plt.show()\n",
    "\n",
    "plt.figure(figsize=(12,5))\n",
    "plt.title(\"Bar plot\")\n",
    "hrs_day = (len(df_day)*5)/3600\n",
    "hrs_night = (len(df_night)*5)/3600\n",
    "plt.bar(x=[0,0.6],height=[hrs_day,hrs_night],tick_label=[\"Day\", \"Night\"], color=(\"orange\",\"green\"), width=0.5)\n",
    "plt.xlabel(\"Time\")\n",
    "plt.ylabel(\"Time spent (hours)\")\n",
    "plt.show()\n",
    "\n",
    "print(\"Day driving time : \", hrs_day, \" hours\")\n",
    "print(\"Night driving time : \", hrs_night, \" hours\")"
   ]
  },
  {
   "cell_type": "markdown",
   "metadata": {},
   "source": [
    "### 1.2 Distance spent during day vs night"
   ]
  },
  {
   "cell_type": "code",
   "execution_count": 11,
   "metadata": {},
   "outputs": [],
   "source": [
    "def find_distance(lat1, long1, lat2, long2):\n",
    "    \n",
    "    DOF_lat = lat1 - lat2\n",
    "    DOF_long = long1 - long2\n",
    "    \n",
    "    dist_lat = DOF_lat * 111139\n",
    "    dist_long = DOF_long * 111139\n",
    "    \n",
    "    dist = np.sqrt((dist_lat*dist_lat) + (dist_long*dist_long))\n",
    "    \n",
    "    return dist"
   ]
  },
  {
   "cell_type": "code",
   "execution_count": 48,
   "metadata": {},
   "outputs": [],
   "source": [
    "def find_day_night_dist(trip):\n",
    "    \n",
    "    df_trip = df[df[\"track_id\"]==trip]\n",
    "    \n",
    "    day_dist = 0\n",
    "    night_dist = 0\n",
    "    \n",
    "    for i in range(len(df_trip)-1):\n",
    "        \n",
    "        time = parser.parse(df_trip[\"time\"].iloc[i])\n",
    "        \n",
    "        lat1 = df_trip[\"latitude\"].iloc[i]\n",
    "        long1 = df_trip[\"longitude\"].iloc[i]\n",
    "        lat2 = df_trip[\"latitude\"].iloc[i+1]\n",
    "        long2 = df_trip[\"longitude\"].iloc[i+1]\n",
    "        \n",
    "        if day_night(time) == \"day\":\n",
    "            \n",
    "            dist = find_distance(lat1,long1,lat2,long2)\n",
    "            day_dist = day_dist + dist\n",
    "        \n",
    "        if day_night(time) == \"night\":\n",
    "            \n",
    "            dist = find_distance(lat1,long1,lat2,long2)\n",
    "            night_dist = night_dist + dist\n",
    "        \n",
    "    return (day_dist/1000), (night_dist/1000)"
   ]
  },
  {
   "cell_type": "code",
   "execution_count": 49,
   "metadata": {},
   "outputs": [],
   "source": [
    "df_distance = pd.DataFrame(columns=[\"trip\", \"day distance\", \"night distance\"])\n",
    "df_trip = df\n",
    "trips = df_trip[\"track_id\"].unique()\n",
    "\n",
    "\n",
    "\n",
    "for trip in trips:\n",
    "    \n",
    "    day_distance, night_distance = find_day_night_dist(trip)\n",
    "        \n",
    "    df_distance = df_distance.append({\"trip\":trip, \"day distance\":day_distance, \"night distance\":night_distance}, ignore_index=True)\n",
    "    \n",
    "    "
   ]
  },
  {
   "cell_type": "code",
   "execution_count": 50,
   "metadata": {},
   "outputs": [
    {
     "data": {
      "text/html": [
       "<div>\n",
       "<style scoped>\n",
       "    .dataframe tbody tr th:only-of-type {\n",
       "        vertical-align: middle;\n",
       "    }\n",
       "\n",
       "    .dataframe tbody tr th {\n",
       "        vertical-align: top;\n",
       "    }\n",
       "\n",
       "    .dataframe thead th {\n",
       "        text-align: right;\n",
       "    }\n",
       "</style>\n",
       "<table border=\"1\" class=\"dataframe\">\n",
       "  <thead>\n",
       "    <tr style=\"text-align: right;\">\n",
       "      <th></th>\n",
       "      <th>trip</th>\n",
       "      <th>day distance</th>\n",
       "      <th>night distance</th>\n",
       "    </tr>\n",
       "  </thead>\n",
       "  <tbody>\n",
       "    <tr>\n",
       "      <th>0</th>\n",
       "      <td>1.0</td>\n",
       "      <td>2.819207</td>\n",
       "      <td>0.000000</td>\n",
       "    </tr>\n",
       "    <tr>\n",
       "      <th>1</th>\n",
       "      <td>2.0</td>\n",
       "      <td>5.566948</td>\n",
       "      <td>0.000000</td>\n",
       "    </tr>\n",
       "    <tr>\n",
       "      <th>2</th>\n",
       "      <td>3.0</td>\n",
       "      <td>0.000000</td>\n",
       "      <td>0.879868</td>\n",
       "    </tr>\n",
       "    <tr>\n",
       "      <th>3</th>\n",
       "      <td>4.0</td>\n",
       "      <td>0.000000</td>\n",
       "      <td>7.576887</td>\n",
       "    </tr>\n",
       "    <tr>\n",
       "      <th>4</th>\n",
       "      <td>8.0</td>\n",
       "      <td>0.455555</td>\n",
       "      <td>0.000000</td>\n",
       "    </tr>\n",
       "  </tbody>\n",
       "</table>\n",
       "</div>"
      ],
      "text/plain": [
       "   trip  day distance  night distance\n",
       "0   1.0      2.819207        0.000000\n",
       "1   2.0      5.566948        0.000000\n",
       "2   3.0      0.000000        0.879868\n",
       "3   4.0      0.000000        7.576887\n",
       "4   8.0      0.455555        0.000000"
      ]
     },
     "execution_count": 50,
     "metadata": {},
     "output_type": "execute_result"
    }
   ],
   "source": [
    "df_distance.head()"
   ]
  },
  {
   "cell_type": "code",
   "execution_count": 55,
   "metadata": {},
   "outputs": [
    {
     "data": {
      "image/png": "[encoded data removed]",
      "text/plain": [
       "<Figure size 864x576 with 1 Axes>"
      ]
     },
     "metadata": {},
     "output_type": "display_data"
    },
    {
     "data": {
      "image/png": "[encoded data removed]",
      "text/plain": [
       "<Figure size 864x360 with 1 Axes>"
      ]
     },
     "metadata": {
      "needs_background": "light"
     },
     "output_type": "display_data"
    },
    {
     "name": "stdout",
     "output_type": "stream",
     "text": [
      "Distance travelled in during day time :  762.5414912294613  kms\n",
      "Distance travelled in during night time :  113.29298785095139  kms\n"
     ]
    }
   ],
   "source": [
    "plt.figure(figsize=(12,8))\n",
    "\n",
    "plt.title(\"Distance travelled during day vs night\")\n",
    "plt.pie([df_distance[\"day distance\"].sum(),df_distance[\"night distance\"].sum()], labels = [\"Day\", \"Night\"], shadow=True, explode=[0.08, 0.08], autopct=\"%1.f%%\")\n",
    "plt.show()\n",
    "\n",
    "plt.figure(figsize=(12,5))\n",
    "plt.title(\"Bar plot\")\n",
    "hrs_day = (len(df_day)*5)/3600\n",
    "hrs_night = (len(df_night)*5)/3600\n",
    "plt.bar(x=[0,0.6],height=[df_distance[\"day distance\"].sum(),df_distance[\"night distance\"].sum()], color=(\"orange\",\"green\"), width=0.5)\n",
    "plt.xlabel(\"Time\")\n",
    "plt.ylabel(\"Distance travelled (kms)\")\n",
    "plt.show()\n",
    "\n",
    "print(\"Distance travelled in during day time : \", df_distance[\"day distance\"].sum(), \" kms\")\n",
    "print(\"Distance travelled in during night time : \", df_distance[\"night distance\"].sum(), \" kms\")"
   ]
  },
  {
   "cell_type": "code",
   "execution_count": 19,
   "metadata": {},
   "outputs": [
    {
     "data": {
      "text/plain": [
       "(18821.654502569785, 7.083333333333333, 159.4304851982382)"
      ]
     },
     "execution_count": 19,
     "metadata": {},
     "output_type": "execute_result"
    }
   ],
   "source": [
    "def find_trip_details(trip):\n",
    "    trip_filter = df[\"track_id\"] == trip\n",
    "    df_temp = df[trip_filter]\n",
    "    \n",
    "    points_no = len(df_temp)\n",
    "    total_dist = 0\n",
    "    \n",
    "    if(points_no > 1):     #Some values were giving error so had to add this condition\n",
    "        \n",
    "        total_dist = 0\n",
    "        \n",
    "        for i in range(points_no - 1):\n",
    "            current_lat = df_temp[\"latitude\"].iloc[i]\n",
    "            current_long = df_temp[\"longitude\"].iloc[i]\n",
    "            next_lat = df_temp[\"latitude\"].iloc[i+1]\n",
    "            next_long = df_temp[\"longitude\"].iloc[i+1]\n",
    "    \n",
    "            delta = find_distance(current_lat,current_long,next_lat,next_long)\n",
    "    \n",
    "            total_dist = total_dist + delta\n",
    "        \n",
    "            total_time = (5 * points_no)\n",
    "        \n",
    "            average_speed = ((total_dist/1000) / (total_time/3600))\n",
    "    \n",
    "        return total_dist, (total_time/60), average_speed\n",
    "    \n",
    "    if(points_no <= 1):\n",
    "        \n",
    "        return 0, 0, 0\n",
    "\n",
    "\n",
    "find_trip_details(49)\n"
   ]
  },
  {
   "cell_type": "markdown",
   "metadata": {},
   "source": [
    "## 2. Idle/moving"
   ]
  },
  {
   "cell_type": "code",
   "execution_count": 63,
   "metadata": {},
   "outputs": [],
   "source": [
    "def idle_moving(trip):\n",
    "    \n",
    "    df_trip = df[df[\"track_id\"]==trip]\n",
    "    idle_count = 0\n",
    "    moving_count = 0\n",
    "    \n",
    "    for i in range(len(df_trip)-1):\n",
    "        \n",
    "        current_lat = df_trip[\"latitude\"].iloc[i]\n",
    "        current_long = df_trip[\"longitude\"].iloc[i]\n",
    "        next_lat = df_trip[\"latitude\"].iloc[i+1]\n",
    "        next_long = df_trip[\"longitude\"].iloc[i+1]\n",
    "        \n",
    "        if(current_lat == next_lat and current_long == next_long):\n",
    "            idle_count = idle_count + 1\n",
    "            \n",
    "        else:\n",
    "            moving_count = moving_count + 1\n",
    "            \n",
    "    \n",
    "    idle_minutes = (idle_count*5)/60\n",
    "    moving_minutes = (moving_count*5)/60\n",
    "            \n",
    "    return idle_minutes, moving_minutes"
   ]
  },
  {
   "cell_type": "code",
   "execution_count": 67,
   "metadata": {},
   "outputs": [],
   "source": [
    "df_idle_moving = pd.DataFrame(columns=[\"trip\", \"idle time\", \"moving time\"])\n",
    "\n",
    "trips = df[\"track_id\"].unique()\n",
    "\n",
    "for trip in trips:\n",
    "    \n",
    "    idle_mins, moving_mins = idle_moving(trip)\n",
    "    \n",
    "    df_idle_moving = df_idle_moving.append({\"trip\":trip, \"idle time\":idle_mins, \"moving time\":moving_mins}, ignore_index=True)"
   ]
  },
  {
   "cell_type": "code",
   "execution_count": 71,
   "metadata": {},
   "outputs": [
    {
     "data": {
      "text/plain": [
       "23.30138888888889"
      ]
     },
     "execution_count": 71,
     "metadata": {},
     "output_type": "execute_result"
    }
   ],
   "source": [
    "df_idle_moving[\"idle time\"].sum()\n",
    "df_idle_moving[\"moving time\"].sum()"
   ]
  },
  {
   "cell_type": "code",
   "execution_count": 79,
   "metadata": {},
   "outputs": [
    {
     "data": {
      "image/png": "[encoded data removed]",
      "text/plain": [
       "<Figure size 576x576 with 1 Axes>"
      ]
     },
     "metadata": {},
     "output_type": "display_data"
    },
    {
     "name": "stdout",
     "output_type": "stream",
     "text": [
      "Time spend idle :  1.6208333333333333  hours\n",
      "Time spend moving :  23.30138888888889 hours\n"
     ]
    }
   ],
   "source": [
    "plt.figure(figsize=(8,8))\n",
    "plt.title(\"Time spend idle vs moving\")\n",
    "plt.pie([df_idle_moving[\"idle time\"].sum(),df_idle_moving[\"moving time\"].sum()], explode = [0.08, 0.08], autopct=\"%1.f%%\", labels=[\"Idle\", \"Moving\"])\n",
    "plt.show()\n",
    "\n",
    "print(\"Time spend idle : \", (df_idle_moving[\"idle time\"].sum()/60), \" hours\")\n",
    "print(\"Time spend moving : \", (df_idle_moving[\"moving time\"].sum()/60), \"hours\")"
   ]
  }
 ],
 "metadata": {
  "kernelspec": {
   "display_name": "Python 3",
   "language": "python",
   "name": "python3"
  },
  "language_info": {
   "codemirror_mode": {
    "name": "ipython",
    "version": 3
   },
   "file_extension": ".py",
   "mimetype": "text/x-python",
   "name": "python",
   "nbconvert_exporter": "python",
   "pygments_lexer": "ipython3",
   "version": "3.6.7"
  }
 },
 "nbformat": 4,
 "nbformat_minor": 2
}
